{
 "cells": [
  {
   "cell_type": "markdown",
   "metadata": {},
   "source": [
    "# APSG tutorial - Part 2"
   ]
  },
  {
   "cell_type": "code",
   "execution_count": 1,
   "metadata": {
    "execution": {
     "iopub.execute_input": "2022-11-14T20:46:50.757087Z",
     "iopub.status.busy": "2022-11-14T20:46:50.756878Z",
     "iopub.status.idle": "2022-11-14T20:46:51.333735Z",
     "shell.execute_reply": "2022-11-14T20:46:51.333224Z"
    }
   },
   "outputs": [],
   "source": [
    "from apsg import *"
   ]
  },
  {
   "cell_type": "markdown",
   "metadata": {},
   "source": [
    "## Matrix like classes and tensors\n",
    "**APSG** provides matrix-like classes to work with tensor quantities used commonly in structural geology analysis. It includes `DefGrad3` and `VelGrad3` for deformation and velocity gradient, `Stress3` for stress tensor, `Ellipsoid` for quadratic forms and `Ortensor3` for orientation tensor. All these classes support common matrix mathematical operations and provide basic methods and properties.\n",
    "\n",
    "All matrix-like objects could be created either by passing nested list or tuple or providing individual components to class method `from_comp`"
   ]
  },
  {
   "cell_type": "code",
   "execution_count": 2,
   "metadata": {
    "execution": {
     "iopub.execute_input": "2022-11-14T20:46:51.336615Z",
     "iopub.status.busy": "2022-11-14T20:46:51.336348Z",
     "iopub.status.idle": "2022-11-14T20:46:51.344065Z",
     "shell.execute_reply": "2022-11-14T20:46:51.343655Z"
    }
   },
   "outputs": [
    {
     "data": {
      "text/plain": [
       "DeformationGradient3\n",
       "[[2.  0.  1. ]\n",
       " [0.  1.  0. ]\n",
       " [0.  0.  0.5]]"
      ]
     },
     "execution_count": 2,
     "metadata": {},
     "output_type": "execute_result"
    }
   ],
   "source": [
    "F = defgrad([[2, 0, 1], [0, 1, 0], [0, 0, 0.5]])\n",
    "F"
   ]
  },
  {
   "cell_type": "code",
   "execution_count": 3,
   "metadata": {
    "execution": {
     "iopub.execute_input": "2022-11-14T20:46:51.373038Z",
     "iopub.status.busy": "2022-11-14T20:46:51.372791Z",
     "iopub.status.idle": "2022-11-14T20:46:51.377071Z",
     "shell.execute_reply": "2022-11-14T20:46:51.376657Z"
    }
   },
   "outputs": [
    {
     "data": {
      "text/plain": [
       "DeformationGradient3\n",
       "[[2.  0.  1. ]\n",
       " [0.  1.  0. ]\n",
       " [0.  0.  0.5]]"
      ]
     },
     "execution_count": 3,
     "metadata": {},
     "output_type": "execute_result"
    }
   ],
   "source": [
    "F = defgrad.from_comp(xx=2, zz=0.5, xz=1)\n",
    "F"
   ]
  },
  {
   "cell_type": "markdown",
   "metadata": {},
   "source": [
    "For multiplifications of matrix or vectors we have to use matmul `@` operator"
   ]
  },
  {
   "cell_type": "code",
   "execution_count": 4,
   "metadata": {
    "execution": {
     "iopub.execute_input": "2022-11-14T20:46:51.379206Z",
     "iopub.status.busy": "2022-11-14T20:46:51.379012Z",
     "iopub.status.idle": "2022-11-14T20:46:51.382488Z",
     "shell.execute_reply": "2022-11-14T20:46:51.382066Z"
    }
   },
   "outputs": [
    {
     "data": {
      "text/plain": [
       "Vector3(1, 0, 0.5)"
      ]
     },
     "execution_count": 4,
     "metadata": {},
     "output_type": "execute_result"
    }
   ],
   "source": [
    "v = vec('z') # unit-length vector in direction af axis z\n",
    "u = F @ v\n",
    "u"
   ]
  },
  {
   "cell_type": "markdown",
   "metadata": {},
   "source": [
    "`I` property returns inverse matrix"
   ]
  },
  {
   "cell_type": "code",
   "execution_count": 5,
   "metadata": {
    "execution": {
     "iopub.execute_input": "2022-11-14T20:46:51.384626Z",
     "iopub.status.busy": "2022-11-14T20:46:51.384432Z",
     "iopub.status.idle": "2022-11-14T20:46:51.388512Z",
     "shell.execute_reply": "2022-11-14T20:46:51.387945Z"
    }
   },
   "outputs": [
    {
     "data": {
      "text/plain": [
       "Vector3(0, 0, 1)"
      ]
     },
     "execution_count": 5,
     "metadata": {},
     "output_type": "execute_result"
    }
   ],
   "source": [
    "F.I @ u"
   ]
  },
  {
   "cell_type": "markdown",
   "metadata": {},
   "source": [
    "To transpose matrix, we can use `T` property and for multiplification we have to use `@` operator"
   ]
  },
  {
   "cell_type": "code",
   "execution_count": 6,
   "metadata": {
    "execution": {
     "iopub.execute_input": "2022-11-14T20:46:51.390492Z",
     "iopub.status.busy": "2022-11-14T20:46:51.390309Z",
     "iopub.status.idle": "2022-11-14T20:46:51.394644Z",
     "shell.execute_reply": "2022-11-14T20:46:51.394043Z"
    }
   },
   "outputs": [
    {
     "data": {
      "text/plain": [
       "DeformationGradient3\n",
       "[[4.   0.   2.  ]\n",
       " [0.   1.   0.  ]\n",
       " [2.   0.   1.25]]"
      ]
     },
     "execution_count": 6,
     "metadata": {},
     "output_type": "execute_result"
    }
   ],
   "source": [
    "F.T @ F"
   ]
  },
  {
   "cell_type": "code",
   "execution_count": 7,
   "metadata": {
    "execution": {
     "iopub.execute_input": "2022-11-14T20:46:51.396526Z",
     "iopub.status.busy": "2022-11-14T20:46:51.396352Z",
     "iopub.status.idle": "2022-11-14T20:46:51.400203Z",
     "shell.execute_reply": "2022-11-14T20:46:51.399662Z"
    }
   },
   "outputs": [
    {
     "data": {
      "text/plain": [
       "1.25"
      ]
     },
     "execution_count": 7,
     "metadata": {},
     "output_type": "execute_result"
    }
   ],
   "source": [
    "v @ F.T @ F @ v"
   ]
  },
  {
   "cell_type": "markdown",
   "metadata": {},
   "source": [
    "Eigenvalues and eigenvectors could be obtained by methods `eigenvalues` and `eigenvectors`. Individual eigenvalues and eigen vectors could be accessed by properties `E1`, `E2`, `E3` and `V1`, `V2`, `V3`"
   ]
  },
  {
   "cell_type": "markdown",
   "metadata": {},
   "source": [
    "#### Deformation gradient and rotations\n",
    "\n",
    "Deformation gradient `DeformationGradient3` could describe distorsion, dilation and rigid-body rotation. All **APSG** features provides `transform` method which transform then using provided deformation gradient.\n",
    "\n",
    "The rigid-body rotation could be either extracted from deformation gradient using `R` method:"
   ]
  },
  {
   "cell_type": "code",
   "execution_count": 8,
   "metadata": {
    "execution": {
     "iopub.execute_input": "2022-11-14T20:46:51.402254Z",
     "iopub.status.busy": "2022-11-14T20:46:51.402080Z",
     "iopub.status.idle": "2022-11-14T20:46:51.426610Z",
     "shell.execute_reply": "2022-11-14T20:46:51.426049Z"
    }
   },
   "outputs": [
    {
     "data": {
      "text/plain": [
       "DeformationGradient3\n",
       "[[ 0.928  0.     0.371]\n",
       " [ 0.     1.     0.   ]\n",
       " [-0.371  0.     0.928]]"
      ]
     },
     "execution_count": 8,
     "metadata": {},
     "output_type": "execute_result"
    }
   ],
   "source": [
    "R = F.R\n",
    "R"
   ]
  },
  {
   "cell_type": "markdown",
   "metadata": {},
   "source": [
    "or could be created of one of the class methods like `from_axisangle`, defining axis of rotation and angle"
   ]
  },
  {
   "cell_type": "code",
   "execution_count": 9,
   "metadata": {
    "execution": {
     "iopub.execute_input": "2022-11-14T20:46:51.428800Z",
     "iopub.status.busy": "2022-11-14T20:46:51.428580Z",
     "iopub.status.idle": "2022-11-14T20:46:51.432711Z",
     "shell.execute_reply": "2022-11-14T20:46:51.432233Z"
    }
   },
   "outputs": [
    {
     "data": {
      "text/plain": [
       "DeformationGradient3\n",
       "[[ 0.552 -0.753  0.359]\n",
       " [ 0.574  0.655  0.492]\n",
       " [-0.605 -0.065  0.793]]"
      ]
     },
     "execution_count": 9,
     "metadata": {},
     "output_type": "execute_result"
    }
   ],
   "source": [
    "R = defgrad.from_axisangle(lin(120, 50), 60)\n",
    "R"
   ]
  },
  {
   "cell_type": "markdown",
   "metadata": {},
   "source": [
    "`from_two_vectors`, where axis of rotation is perpendicular to both vectors and angle is angle of vectors"
   ]
  },
  {
   "cell_type": "code",
   "execution_count": 10,
   "metadata": {
    "execution": {
     "iopub.execute_input": "2022-11-14T20:46:51.435366Z",
     "iopub.status.busy": "2022-11-14T20:46:51.434749Z",
     "iopub.status.idle": "2022-11-14T20:46:51.439310Z",
     "shell.execute_reply": "2022-11-14T20:46:51.438741Z"
    }
   },
   "outputs": [
    {
     "data": {
      "text/plain": [
       "DeformationGradient3\n",
       "[[ 0.938  0.074  0.339]\n",
       " [ 0.186  0.718 -0.671]\n",
       " [-0.294  0.692  0.66 ]]"
      ]
     },
     "execution_count": 10,
     "metadata": {},
     "output_type": "execute_result"
    }
   ],
   "source": [
    "R = defgrad.from_two_vectors(lin(120, 50), lin(270, 80))\n",
    "R"
   ]
  },
  {
   "cell_type": "code",
   "execution_count": 11,
   "metadata": {
    "execution": {
     "iopub.execute_input": "2022-11-14T20:46:51.441321Z",
     "iopub.status.busy": "2022-11-14T20:46:51.441100Z",
     "iopub.status.idle": "2022-11-14T20:46:51.445737Z",
     "shell.execute_reply": "2022-11-14T20:46:51.445119Z"
    }
   },
   "outputs": [
    {
     "data": {
      "text/plain": [
       "L:270/80"
      ]
     },
     "execution_count": 11,
     "metadata": {},
     "output_type": "execute_result"
    }
   ],
   "source": [
    "lin(120, 50).transform(R)"
   ]
  },
  {
   "cell_type": "markdown",
   "metadata": {},
   "source": [
    "or by `from_vectors_axis`, where `axis` do not need to by perpendicular to vectors. Note that rotation axis needs to be adjusted to provide correct rotation of vector."
   ]
  },
  {
   "cell_type": "code",
   "execution_count": 12,
   "metadata": {
    "execution": {
     "iopub.execute_input": "2022-11-14T20:46:51.448176Z",
     "iopub.status.busy": "2022-11-14T20:46:51.447901Z",
     "iopub.status.idle": "2022-11-14T20:46:51.453105Z",
     "shell.execute_reply": "2022-11-14T20:46:51.452532Z"
    }
   },
   "outputs": [
    {
     "data": {
      "text/plain": [
       "DeformationGradient3\n",
       "[[-0.393 -0.864  0.315]\n",
       " [ 0.864 -0.23   0.448]\n",
       " [-0.315  0.448  0.837]]"
      ]
     },
     "execution_count": 12,
     "metadata": {},
     "output_type": "execute_result"
    }
   ],
   "source": [
    "R = defgrad.from_vectors_axis(lin(45,30), lin(135, 30), lin(90, 70))\n",
    "R"
   ]
  },
  {
   "cell_type": "code",
   "execution_count": 13,
   "metadata": {
    "execution": {
     "iopub.execute_input": "2022-11-14T20:46:51.455743Z",
     "iopub.status.busy": "2022-11-14T20:46:51.455367Z",
     "iopub.status.idle": "2022-11-14T20:46:51.460614Z",
     "shell.execute_reply": "2022-11-14T20:46:51.459932Z"
    }
   },
   "outputs": [
    {
     "data": {
      "text/plain": [
       "L:135/30"
      ]
     },
     "execution_count": 13,
     "metadata": {},
     "output_type": "execute_result"
    }
   ],
   "source": [
    "lin(45,30).transform(R)"
   ]
  },
  {
   "cell_type": "code",
   "execution_count": 14,
   "metadata": {
    "execution": {
     "iopub.execute_input": "2022-11-14T20:46:51.463225Z",
     "iopub.status.busy": "2022-11-14T20:46:51.462850Z",
     "iopub.status.idle": "2022-11-14T20:46:51.467220Z",
     "shell.execute_reply": "2022-11-14T20:46:51.466821Z"
    }
   },
   "outputs": [
    {
     "name": "stdout",
     "output_type": "stream",
     "text": [
      "L:90/70 113.1157146919613\n"
     ]
    }
   ],
   "source": [
    "a, ang = R.axisangle()\n",
    "print(lin(a), ang)"
   ]
  },
  {
   "cell_type": "markdown",
   "metadata": {},
   "source": [
    "`from_two_pairs` method, to describe rotation between two coordinate systems. Note that pair define X axis as lineation vector and Z axis as foliation vector."
   ]
  },
  {
   "cell_type": "code",
   "execution_count": 15,
   "metadata": {
    "execution": {
     "iopub.execute_input": "2022-11-14T20:46:51.469212Z",
     "iopub.status.busy": "2022-11-14T20:46:51.469059Z",
     "iopub.status.idle": "2022-11-14T20:46:51.475485Z",
     "shell.execute_reply": "2022-11-14T20:46:51.475036Z"
    }
   },
   "outputs": [
    {
     "data": {
      "text/plain": [
       "DeformationGradient3\n",
       "[[-0.071  0.97   0.234]\n",
       " [-0.874 -0.174  0.453]\n",
       " [ 0.48  -0.173  0.86 ]]"
      ]
     },
     "execution_count": 15,
     "metadata": {},
     "output_type": "execute_result"
    }
   ],
   "source": [
    "p1 = pair(150, 60, 90, 40)\n",
    "p2 = pair(45, 30, 10, 25)\n",
    "R = defgrad.from_two_pairs(p1, p2)\n",
    "R"
   ]
  },
  {
   "cell_type": "code",
   "execution_count": 16,
   "metadata": {
    "execution": {
     "iopub.execute_input": "2022-11-14T20:46:51.477394Z",
     "iopub.status.busy": "2022-11-14T20:46:51.477182Z",
     "iopub.status.idle": "2022-11-14T20:46:51.481271Z",
     "shell.execute_reply": "2022-11-14T20:46:51.480641Z"
    }
   },
   "outputs": [
    {
     "data": {
      "text/plain": [
       "P:45/30-10/25"
      ]
     },
     "execution_count": 16,
     "metadata": {},
     "output_type": "execute_result"
    }
   ],
   "source": [
    "p1.transform(R)"
   ]
  },
  {
   "cell_type": "markdown",
   "metadata": {},
   "source": [
    "### Ellipsoid\n",
    "\n",
    "In deformation analysis, the quadratic forms are represented by `Ellipsoid` class. It could be used to represents either ellipsoid objects or finite strain ellipsoid.\n",
    "\n",
    "It provides additional methods and properties including `lambda1`, `lambda2` and `lambda3` for square-root of eigenvalues, Woodcock's `shape` and `strength`, `k`, `K`, `d` and `D` for Flinn's and Ramsay symmetries and intensities, `lode` for Lode's parameter etc. For more check documentation. Eigenvectors could be also represented by linear or planar features using properties `eigenlins` and `eigenfols`.\n",
    "\n",
    "We can create `Ellipsoid` object similarly to `Matrix3` (note that only components of upper triangular part are available in `from_comp` method due to matrix symmetry), or you can use aditional class methods `from_defgrad` and `from_stretch`."
   ]
  },
  {
   "cell_type": "code",
   "execution_count": 17,
   "metadata": {
    "execution": {
     "iopub.execute_input": "2022-11-14T20:46:51.483525Z",
     "iopub.status.busy": "2022-11-14T20:46:51.483267Z",
     "iopub.status.idle": "2022-11-14T20:46:51.487463Z",
     "shell.execute_reply": "2022-11-14T20:46:51.487026Z"
    }
   },
   "outputs": [
    {
     "data": {
      "text/plain": [
       "Ellipsoid\n",
       "[[5.   0.   0.5 ]\n",
       " [0.   1.   0.  ]\n",
       " [0.5  0.   0.25]]\n",
       "(λ1:2.25, λ2:1, λ3:0.445)"
      ]
     },
     "execution_count": 17,
     "metadata": {},
     "output_type": "execute_result"
    }
   ],
   "source": [
    "B = ellipsoid.from_defgrad(F)  # Finger deformation tensor\n",
    "B"
   ]
  },
  {
   "cell_type": "markdown",
   "metadata": {},
   "source": [
    "In above example, the Finger deformation tensor `B` represents finite strain ellipsoid reulting from deformation described by deformation gradient `F`. We can explore several parameters:"
   ]
  },
  {
   "cell_type": "code",
   "execution_count": 18,
   "metadata": {
    "execution": {
     "iopub.execute_input": "2022-11-14T20:46:51.489496Z",
     "iopub.status.busy": "2022-11-14T20:46:51.489283Z",
     "iopub.status.idle": "2022-11-14T20:46:51.493428Z",
     "shell.execute_reply": "2022-11-14T20:46:51.492970Z"
    }
   },
   "outputs": [
    {
     "name": "stdout",
     "output_type": "stream",
     "text": [
      "Principal stretches: Sx=2.2476790206496235, Sy=1.0, Sz=0.44490338291762865\n",
      "Principal strain ratios: Rxy=2.2476790206496235, Ryz=2.2476790206496235\n",
      "Flinn's finite strain parameters: d=1.7644845924910786, k=1.0\n",
      "Ramsay's finite strain parameters: d=1.3118699860194973, k=1.0\n",
      "Woodcock's parameters: strength=1.6197962748565002, shape=1.0\n",
      "Watterson's strain intesity: s3.495358041299247\n",
      "Nadai's natural octahedral unit shear: 1.3225581202197996\n",
      "Nadai's natural octahedral unit strain: 1.14536893009174\n",
      "Lode's parameter: 0.0\n"
     ]
    }
   ],
   "source": [
    "print(f'Principal stretches: Sx={B.lambda1}, Sy={B.lambda2}, Sz={B.lambda3}')\n",
    "print(f'Principal strain ratios: Rxy={B.Rxy}, Ryz={B.Ryz}')\n",
    "print(f\"Flinn's finite strain parameters: d={B.d}, k={B.k}\")\n",
    "print(f\"Ramsay's finite strain parameters: d={B.D}, k={B.K}\")\n",
    "print(f\"Woodcock's parameters: strength={B.strength}, shape={B.shape}\")\n",
    "print(f\"Watterson's strain intesity: s{B.r}\")\n",
    "print(f\"Nadai's natural octahedral unit shear: {B.goct}\")\n",
    "print(f\"Nadai's natural octahedral unit strain: {B.eoct}\")\n",
    "print(f\"Lode's parameter: {B.lode}\")"
   ]
  },
  {
   "cell_type": "code",
   "execution_count": 19,
   "metadata": {
    "execution": {
     "iopub.execute_input": "2022-11-14T20:46:51.495265Z",
     "iopub.status.busy": "2022-11-14T20:46:51.495058Z",
     "iopub.status.idle": "2022-11-14T20:46:51.499126Z",
     "shell.execute_reply": "2022-11-14T20:46:51.498703Z"
    }
   },
   "outputs": [
    {
     "data": {
      "text/plain": [
       "Ellipsoid\n",
       "[[4.   0.   2.  ]\n",
       " [0.   1.   0.  ]\n",
       " [2.   0.   1.25]]\n",
       "(λ1:2.25, λ2:1, λ3:0.445)"
      ]
     },
     "execution_count": 19,
     "metadata": {},
     "output_type": "execute_result"
    }
   ],
   "source": [
    "C = ellipsoid.from_defgrad(F, 'right')  # Green's deformation tensor\n",
    "C"
   ]
  },
  {
   "cell_type": "code",
   "execution_count": 20,
   "metadata": {
    "execution": {
     "iopub.execute_input": "2022-11-14T20:46:51.500987Z",
     "iopub.status.busy": "2022-11-14T20:46:51.500778Z",
     "iopub.status.idle": "2022-11-14T20:46:51.504658Z",
     "shell.execute_reply": "2022-11-14T20:46:51.504061Z"
    }
   },
   "outputs": [
    {
     "data": {
      "text/plain": [
       "1.25"
      ]
     },
     "execution_count": 20,
     "metadata": {},
     "output_type": "execute_result"
    }
   ],
   "source": [
    "v @ C @ v"
   ]
  },
  {
   "cell_type": "markdown",
   "metadata": {},
   "source": [
    "### Orientation tensor\n",
    "`OrientationTensor3` class represents orientation tensor of set of vectors, linear or planar features. In adition to `Ellipsoid` methods and properties, it provides properties to describe orientation distribution, e.g. Vollmer's `P`, `G`, `R` and `B` indexes, `Intensity` for Lisle intensity index and `MAD` for approximate angular deviation."
   ]
  },
  {
   "cell_type": "code",
   "execution_count": 21,
   "metadata": {
    "execution": {
     "iopub.execute_input": "2022-11-14T20:46:51.508364Z",
     "iopub.status.busy": "2022-11-14T20:46:51.507880Z",
     "iopub.status.idle": "2022-11-14T20:46:51.534403Z",
     "shell.execute_reply": "2022-11-14T20:46:51.533747Z"
    }
   },
   "outputs": [
    {
     "data": {
      "text/plain": [
       "OrientationTensor3\n",
       "[[ 0.163 -0.204 -0.197]\n",
       " [-0.204  0.42   0.369]\n",
       " [-0.197  0.369  0.417]]\n",
       "(λ1:0.947, λ2:0.237, λ3:0.217)"
      ]
     },
     "execution_count": 21,
     "metadata": {},
     "output_type": "execute_result"
    }
   ],
   "source": [
    "l = linset.random_fisher(position=lin(120,40))\n",
    "ot = l.ortensor()\n",
    "# or\n",
    "ot = ortensor.from_features(l)\n",
    "ot"
   ]
  },
  {
   "cell_type": "code",
   "execution_count": 22,
   "metadata": {
    "execution": {
     "iopub.execute_input": "2022-11-14T20:46:51.537331Z",
     "iopub.status.busy": "2022-11-14T20:46:51.536812Z",
     "iopub.status.idle": "2022-11-14T20:46:51.542177Z",
     "shell.execute_reply": "2022-11-14T20:46:51.541326Z"
    }
   },
   "outputs": [
    {
     "data": {
      "text/plain": [
       "(0.8967971216296595, 0.05619274642106113, 0.04701013194927865)"
      ]
     },
     "execution_count": 22,
     "metadata": {},
     "output_type": "execute_result"
    }
   ],
   "source": [
    "ot.eigenvalues()"
   ]
  },
  {
   "cell_type": "code",
   "execution_count": 23,
   "metadata": {
    "execution": {
     "iopub.execute_input": "2022-11-14T20:46:51.545003Z",
     "iopub.status.busy": "2022-11-14T20:46:51.544615Z",
     "iopub.status.idle": "2022-11-14T20:46:51.549775Z",
     "shell.execute_reply": "2022-11-14T20:46:51.549061Z"
    }
   },
   "outputs": [
    {
     "data": {
      "text/plain": [
       "(Vector3(-0.36, 0.662, 0.657),\n",
       " Vector3(0.771, -0.185, 0.609),\n",
       " Vector3(-0.525, -0.726, 0.444))"
      ]
     },
     "execution_count": 23,
     "metadata": {},
     "output_type": "execute_result"
    }
   ],
   "source": [
    "ot.eigenvectors()"
   ]
  },
  {
   "cell_type": "code",
   "execution_count": 24,
   "metadata": {
    "execution": {
     "iopub.execute_input": "2022-11-14T20:46:51.552208Z",
     "iopub.status.busy": "2022-11-14T20:46:51.551921Z",
     "iopub.status.idle": "2022-11-14T20:46:51.557078Z",
     "shell.execute_reply": "2022-11-14T20:46:51.556357Z"
    }
   },
   "outputs": [
    {
     "data": {
      "text/plain": [
       "'L'"
      ]
     },
     "execution_count": 24,
     "metadata": {},
     "output_type": "execute_result"
    }
   ],
   "source": [
    "ot.kind"
   ]
  },
  {
   "cell_type": "markdown",
   "metadata": {},
   "source": [
    "The instances of `Stress3`, `Ellipsoid` and `OrientationTensor3` also provides `eigenlins` and `eigenfols` properties to represent principal axes and planes"
   ]
  },
  {
   "cell_type": "code",
   "execution_count": 25,
   "metadata": {
    "execution": {
     "iopub.execute_input": "2022-11-14T20:46:51.559084Z",
     "iopub.status.busy": "2022-11-14T20:46:51.558897Z",
     "iopub.status.idle": "2022-11-14T20:46:51.562028Z",
     "shell.execute_reply": "2022-11-14T20:46:51.561640Z"
    }
   },
   "outputs": [
    {
     "data": {
      "text/plain": [
       "(L:119/41, L:347/38, L:234/26)"
      ]
     },
     "execution_count": 25,
     "metadata": {},
     "output_type": "execute_result"
    }
   ],
   "source": [
    "ot.eigenlins"
   ]
  },
  {
   "cell_type": "code",
   "execution_count": 26,
   "metadata": {
    "execution": {
     "iopub.execute_input": "2022-11-14T20:46:51.563899Z",
     "iopub.status.busy": "2022-11-14T20:46:51.563713Z",
     "iopub.status.idle": "2022-11-14T20:46:51.566910Z",
     "shell.execute_reply": "2022-11-14T20:46:51.566531Z"
    }
   },
   "outputs": [
    {
     "data": {
      "text/plain": [
       "(S:299/49, S:167/52, S:54/64)"
      ]
     },
     "execution_count": 26,
     "metadata": {},
     "output_type": "execute_result"
    }
   ],
   "source": [
    "ot.eigenfols"
   ]
  },
  {
   "cell_type": "code",
   "execution_count": 27,
   "metadata": {
    "execution": {
     "iopub.execute_input": "2022-11-14T20:46:51.568916Z",
     "iopub.status.busy": "2022-11-14T20:46:51.568743Z",
     "iopub.status.idle": "2022-11-14T20:46:51.571862Z",
     "shell.execute_reply": "2022-11-14T20:46:51.571484Z"
    }
   },
   "outputs": [
    {
     "data": {
      "text/plain": [
       "(1.4742332551426276, 15.525006506491485)"
      ]
     },
     "execution_count": 27,
     "metadata": {},
     "output_type": "execute_result"
    }
   ],
   "source": [
    "ot.strength, ot.shape"
   ]
  },
  {
   "cell_type": "code",
   "execution_count": 28,
   "metadata": {
    "execution": {
     "iopub.execute_input": "2022-11-14T20:46:51.573981Z",
     "iopub.status.busy": "2022-11-14T20:46:51.573730Z",
     "iopub.status.idle": "2022-11-14T20:46:51.577195Z",
     "shell.execute_reply": "2022-11-14T20:46:51.576794Z"
    }
   },
   "outputs": [
    {
     "data": {
      "text/plain": [
       "(32.09541304465528, 2.996363082737416)"
      ]
     },
     "execution_count": 28,
     "metadata": {},
     "output_type": "execute_result"
    }
   ],
   "source": [
    "ot.k, ot.d"
   ]
  },
  {
   "cell_type": "code",
   "execution_count": 29,
   "metadata": {
    "execution": {
     "iopub.execute_input": "2022-11-14T20:46:51.579299Z",
     "iopub.status.busy": "2022-11-14T20:46:51.579105Z",
     "iopub.status.idle": "2022-11-14T20:46:51.582301Z",
     "shell.execute_reply": "2022-11-14T20:46:51.581915Z"
    }
   },
   "outputs": [
    {
     "data": {
      "text/plain": [
       "(15.525006506491485, 1.9262419720586106)"
      ]
     },
     "execution_count": 29,
     "metadata": {},
     "output_type": "execute_result"
    }
   ],
   "source": [
    "ot.K, ot.D"
   ]
  },
  {
   "cell_type": "code",
   "execution_count": 30,
   "metadata": {
    "execution": {
     "iopub.execute_input": "2022-11-14T20:46:51.584397Z",
     "iopub.status.busy": "2022-11-14T20:46:51.584209Z",
     "iopub.status.idle": "2022-11-14T20:46:51.587432Z",
     "shell.execute_reply": "2022-11-14T20:46:51.587020Z"
    }
   },
   "outputs": [
    {
     "data": {
      "text/plain": [
       "(0.8406043752085984, 0.01836522894356496, 0.14103039584783594)"
      ]
     },
     "execution_count": 30,
     "metadata": {},
     "output_type": "execute_result"
    }
   ],
   "source": [
    "ot.P, ot.G, ot.R"
   ]
  },
  {
   "cell_type": "code",
   "execution_count": 31,
   "metadata": {
    "execution": {
     "iopub.execute_input": "2022-11-14T20:46:51.589505Z",
     "iopub.status.busy": "2022-11-14T20:46:51.589315Z",
     "iopub.status.idle": "2022-11-14T20:46:51.592438Z",
     "shell.execute_reply": "2022-11-14T20:46:51.592055Z"
    }
   },
   "outputs": [
    {
     "data": {
      "text/plain": [
       "18.738660348653916"
      ]
     },
     "execution_count": 31,
     "metadata": {},
     "output_type": "execute_result"
    }
   ],
   "source": [
    "ot.MAD"
   ]
  },
  {
   "cell_type": "code",
   "execution_count": null,
   "metadata": {},
   "outputs": [],
   "source": []
  }
 ],
 "metadata": {
  "kernelspec": {
   "display_name": "Python 3 (ipykernel)",
   "language": "python",
   "name": "python3"
  },
  "language_info": {
   "codemirror_mode": {
    "name": "ipython",
    "version": 3
   },
   "file_extension": ".py",
   "mimetype": "text/x-python",
   "name": "python",
   "nbconvert_exporter": "python",
   "pygments_lexer": "ipython3",
   "version": "3.10.6"
  }
 },
 "nbformat": 4,
 "nbformat_minor": 4
}
