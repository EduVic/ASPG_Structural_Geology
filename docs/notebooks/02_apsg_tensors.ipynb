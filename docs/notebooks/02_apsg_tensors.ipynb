{
 "cells": [
  {
   "cell_type": "markdown",
   "metadata": {},
   "source": [
    "# APSG tutorial - Part 2"
   ]
  },
  {
   "cell_type": "code",
   "execution_count": 1,
   "metadata": {
    "execution": {
     "iopub.execute_input": "2022-10-11T21:34:53.602866Z",
     "iopub.status.busy": "2022-10-11T21:34:53.602656Z",
     "iopub.status.idle": "2022-10-11T21:34:54.158078Z",
     "shell.execute_reply": "2022-10-11T21:34:54.157497Z"
    }
   },
   "outputs": [],
   "source": [
    "from apsg import *"
   ]
  },
  {
   "cell_type": "markdown",
   "metadata": {},
   "source": [
    "## Matrix like classes and tensors\n",
    "**APSG** provides matrix-like classes to work with tensor quantities used commonly in structural geology analysis. It includes `DefGrad3` and `VelGrad3` for deformation and velocity gradient, `Stress3` for stress tensor, `Ellipsoid` for quadratic forms and `Ortensor3` for orientation tensor. All these classes support common matrix mathematical operations and provide basic methods and properties.\n",
    "\n",
    "All matrix-like objects could be created either by passing nested list or tuple or providing individual components to class method `from_comp`"
   ]
  },
  {
   "cell_type": "code",
   "execution_count": 2,
   "metadata": {
    "execution": {
     "iopub.execute_input": "2022-10-11T21:34:54.160814Z",
     "iopub.status.busy": "2022-10-11T21:34:54.160556Z",
     "iopub.status.idle": "2022-10-11T21:34:54.168164Z",
     "shell.execute_reply": "2022-10-11T21:34:54.167745Z"
    }
   },
   "outputs": [
    {
     "data": {
      "text/plain": [
       "DeformationGradient3\n",
       "[[2.  0.  1. ]\n",
       " [0.  1.  0. ]\n",
       " [0.  0.  0.5]]"
      ]
     },
     "execution_count": 2,
     "metadata": {},
     "output_type": "execute_result"
    }
   ],
   "source": [
    "F = defgrad([[2, 0, 1], [0, 1, 0], [0, 0, 0.5]])\n",
    "F"
   ]
  },
  {
   "cell_type": "code",
   "execution_count": 3,
   "metadata": {
    "execution": {
     "iopub.execute_input": "2022-10-11T21:34:54.197308Z",
     "iopub.status.busy": "2022-10-11T21:34:54.197058Z",
     "iopub.status.idle": "2022-10-11T21:34:54.200944Z",
     "shell.execute_reply": "2022-10-11T21:34:54.200536Z"
    }
   },
   "outputs": [
    {
     "data": {
      "text/plain": [
       "DeformationGradient3\n",
       "[[2.  0.  1. ]\n",
       " [0.  1.  0. ]\n",
       " [0.  0.  0.5]]"
      ]
     },
     "execution_count": 3,
     "metadata": {},
     "output_type": "execute_result"
    }
   ],
   "source": [
    "F = defgrad.from_comp(xx=2, zz=0.5, xz=1)\n",
    "F"
   ]
  },
  {
   "cell_type": "markdown",
   "metadata": {},
   "source": [
    "For multiplifications of matrix or vectors we have to use matmul `@` operator"
   ]
  },
  {
   "cell_type": "code",
   "execution_count": 4,
   "metadata": {
    "execution": {
     "iopub.execute_input": "2022-10-11T21:34:54.203007Z",
     "iopub.status.busy": "2022-10-11T21:34:54.202833Z",
     "iopub.status.idle": "2022-10-11T21:34:54.206231Z",
     "shell.execute_reply": "2022-10-11T21:34:54.205849Z"
    }
   },
   "outputs": [
    {
     "data": {
      "text/plain": [
       "Vector3(1, 0, 0.5)"
      ]
     },
     "execution_count": 4,
     "metadata": {},
     "output_type": "execute_result"
    }
   ],
   "source": [
    "v = vec('z') # unit-length vector in direction af axis z\n",
    "u = F @ v\n",
    "u"
   ]
  },
  {
   "cell_type": "markdown",
   "metadata": {},
   "source": [
    "`I` property returns inverse matrix"
   ]
  },
  {
   "cell_type": "code",
   "execution_count": 5,
   "metadata": {
    "execution": {
     "iopub.execute_input": "2022-10-11T21:34:54.208268Z",
     "iopub.status.busy": "2022-10-11T21:34:54.208096Z",
     "iopub.status.idle": "2022-10-11T21:34:54.211933Z",
     "shell.execute_reply": "2022-10-11T21:34:54.211470Z"
    }
   },
   "outputs": [
    {
     "data": {
      "text/plain": [
       "Vector3(0, 0, 1)"
      ]
     },
     "execution_count": 5,
     "metadata": {},
     "output_type": "execute_result"
    }
   ],
   "source": [
    "F.I @ u"
   ]
  },
  {
   "cell_type": "markdown",
   "metadata": {},
   "source": [
    "To transpose matrix, we can use `T` property and for multiplification we have to use `@` operator"
   ]
  },
  {
   "cell_type": "code",
   "execution_count": 6,
   "metadata": {
    "execution": {
     "iopub.execute_input": "2022-10-11T21:34:54.213975Z",
     "iopub.status.busy": "2022-10-11T21:34:54.213763Z",
     "iopub.status.idle": "2022-10-11T21:34:54.217864Z",
     "shell.execute_reply": "2022-10-11T21:34:54.217212Z"
    }
   },
   "outputs": [
    {
     "data": {
      "text/plain": [
       "DeformationGradient3\n",
       "[[4.   0.   2.  ]\n",
       " [0.   1.   0.  ]\n",
       " [2.   0.   1.25]]"
      ]
     },
     "execution_count": 6,
     "metadata": {},
     "output_type": "execute_result"
    }
   ],
   "source": [
    "F.T @ F"
   ]
  },
  {
   "cell_type": "code",
   "execution_count": 7,
   "metadata": {
    "execution": {
     "iopub.execute_input": "2022-10-11T21:34:54.220650Z",
     "iopub.status.busy": "2022-10-11T21:34:54.220291Z",
     "iopub.status.idle": "2022-10-11T21:34:54.225430Z",
     "shell.execute_reply": "2022-10-11T21:34:54.224795Z"
    }
   },
   "outputs": [
    {
     "data": {
      "text/plain": [
       "1.25"
      ]
     },
     "execution_count": 7,
     "metadata": {},
     "output_type": "execute_result"
    }
   ],
   "source": [
    "v @ F.T @ F @ v"
   ]
  },
  {
   "cell_type": "markdown",
   "metadata": {},
   "source": [
    "Eigenvalues and eigenvectors could be obtained by methods `eigenvalues` and `eigenvectors`. Individual eigenvalues and eigen vectors could be accessed by properties `E1`, `E2`, `E3` and `V1`, `V2`, `V3`"
   ]
  },
  {
   "cell_type": "markdown",
   "metadata": {},
   "source": [
    "#### Deformation gradient and rotations\n",
    "\n",
    "Deformation gradient `DeformationGradient3` could describe distorsion, dilation and rigid-body rotation. All **APSG** features provides `transform` method which transform then using provided deformation gradient.\n",
    "\n",
    "The rigid-body rotation could be either extracted from deformation gradient using `R` method:"
   ]
  },
  {
   "cell_type": "code",
   "execution_count": 8,
   "metadata": {
    "execution": {
     "iopub.execute_input": "2022-10-11T21:34:54.228029Z",
     "iopub.status.busy": "2022-10-11T21:34:54.227675Z",
     "iopub.status.idle": "2022-10-11T21:34:54.233070Z",
     "shell.execute_reply": "2022-10-11T21:34:54.232614Z"
    }
   },
   "outputs": [
    {
     "data": {
      "text/plain": [
       "DeformationGradient3\n",
       "[[ 0.928  0.     0.371]\n",
       " [ 0.     1.     0.   ]\n",
       " [-0.371  0.     0.928]]"
      ]
     },
     "execution_count": 8,
     "metadata": {},
     "output_type": "execute_result"
    }
   ],
   "source": [
    "R = F.R\n",
    "R"
   ]
  },
  {
   "cell_type": "markdown",
   "metadata": {},
   "source": [
    "or could be created of one of the class methods like `from_axisangle`, defining axis of rotation and angle"
   ]
  },
  {
   "cell_type": "code",
   "execution_count": 9,
   "metadata": {
    "execution": {
     "iopub.execute_input": "2022-10-11T21:34:54.235224Z",
     "iopub.status.busy": "2022-10-11T21:34:54.235052Z",
     "iopub.status.idle": "2022-10-11T21:34:54.239364Z",
     "shell.execute_reply": "2022-10-11T21:34:54.238747Z"
    }
   },
   "outputs": [
    {
     "data": {
      "text/plain": [
       "DeformationGradient3\n",
       "[[ 0.552 -0.753  0.359]\n",
       " [ 0.574  0.655  0.492]\n",
       " [-0.605 -0.065  0.793]]"
      ]
     },
     "execution_count": 9,
     "metadata": {},
     "output_type": "execute_result"
    }
   ],
   "source": [
    "R = defgrad.from_axisangle(lin(120, 50), 60)\n",
    "R"
   ]
  },
  {
   "cell_type": "markdown",
   "metadata": {},
   "source": [
    "`from_two_vectors`, where axis of rotation is perpendicular to both vectors and angle is angle of vectors"
   ]
  },
  {
   "cell_type": "code",
   "execution_count": 10,
   "metadata": {
    "execution": {
     "iopub.execute_input": "2022-10-11T21:34:54.241732Z",
     "iopub.status.busy": "2022-10-11T21:34:54.241551Z",
     "iopub.status.idle": "2022-10-11T21:34:54.245686Z",
     "shell.execute_reply": "2022-10-11T21:34:54.245170Z"
    }
   },
   "outputs": [
    {
     "data": {
      "text/plain": [
       "DeformationGradient3\n",
       "[[ 0.938  0.074  0.339]\n",
       " [ 0.186  0.718 -0.671]\n",
       " [-0.294  0.692  0.66 ]]"
      ]
     },
     "execution_count": 10,
     "metadata": {},
     "output_type": "execute_result"
    }
   ],
   "source": [
    "R = defgrad.from_two_vectors(lin(120, 50), lin(270, 80))\n",
    "R"
   ]
  },
  {
   "cell_type": "code",
   "execution_count": 11,
   "metadata": {
    "execution": {
     "iopub.execute_input": "2022-10-11T21:34:54.248294Z",
     "iopub.status.busy": "2022-10-11T21:34:54.248014Z",
     "iopub.status.idle": "2022-10-11T21:34:54.253413Z",
     "shell.execute_reply": "2022-10-11T21:34:54.252681Z"
    }
   },
   "outputs": [
    {
     "data": {
      "text/plain": [
       "L:270/80"
      ]
     },
     "execution_count": 11,
     "metadata": {},
     "output_type": "execute_result"
    }
   ],
   "source": [
    "lin(120, 50).transform(R)"
   ]
  },
  {
   "cell_type": "markdown",
   "metadata": {},
   "source": [
    "or by `from_vectors_axis`, where `axis` do not need to by perpendicular to vectors. Note that rotation axis needs to be adjusted to provide correct rotation of vector."
   ]
  },
  {
   "cell_type": "code",
   "execution_count": 12,
   "metadata": {
    "execution": {
     "iopub.execute_input": "2022-10-11T21:34:54.256570Z",
     "iopub.status.busy": "2022-10-11T21:34:54.256283Z",
     "iopub.status.idle": "2022-10-11T21:34:54.263218Z",
     "shell.execute_reply": "2022-10-11T21:34:54.262585Z"
    }
   },
   "outputs": [
    {
     "data": {
      "text/plain": [
       "DeformationGradient3\n",
       "[[-0.393 -0.864  0.315]\n",
       " [ 0.864 -0.23   0.448]\n",
       " [-0.315  0.448  0.837]]"
      ]
     },
     "execution_count": 12,
     "metadata": {},
     "output_type": "execute_result"
    }
   ],
   "source": [
    "R = defgrad.from_vectors_axis(lin(45,30), lin(135, 30), lin(90, 70))\n",
    "R"
   ]
  },
  {
   "cell_type": "code",
   "execution_count": 13,
   "metadata": {
    "execution": {
     "iopub.execute_input": "2022-10-11T21:34:54.265722Z",
     "iopub.status.busy": "2022-10-11T21:34:54.265383Z",
     "iopub.status.idle": "2022-10-11T21:34:54.270786Z",
     "shell.execute_reply": "2022-10-11T21:34:54.270195Z"
    }
   },
   "outputs": [
    {
     "data": {
      "text/plain": [
       "L:135/30"
      ]
     },
     "execution_count": 13,
     "metadata": {},
     "output_type": "execute_result"
    }
   ],
   "source": [
    "lin(45,30).transform(R)"
   ]
  },
  {
   "cell_type": "code",
   "execution_count": 14,
   "metadata": {
    "execution": {
     "iopub.execute_input": "2022-10-11T21:34:54.273205Z",
     "iopub.status.busy": "2022-10-11T21:34:54.272871Z",
     "iopub.status.idle": "2022-10-11T21:34:54.287254Z",
     "shell.execute_reply": "2022-10-11T21:34:54.286630Z"
    }
   },
   "outputs": [
    {
     "name": "stdout",
     "output_type": "stream",
     "text": [
      "L:90/70 113.1157146919613\n"
     ]
    }
   ],
   "source": [
    "a, ang = R.axisangle()\n",
    "print(lin(a), ang)"
   ]
  },
  {
   "cell_type": "markdown",
   "metadata": {},
   "source": [
    "`from_two_pairs` method, to describe rotation between two coordinate systems. Note that pair define X axis as lineation vector and Z axis as foliation vector."
   ]
  },
  {
   "cell_type": "code",
   "execution_count": 15,
   "metadata": {
    "execution": {
     "iopub.execute_input": "2022-10-11T21:34:54.289450Z",
     "iopub.status.busy": "2022-10-11T21:34:54.289267Z",
     "iopub.status.idle": "2022-10-11T21:34:54.295037Z",
     "shell.execute_reply": "2022-10-11T21:34:54.294569Z"
    }
   },
   "outputs": [
    {
     "data": {
      "text/plain": [
       "DeformationGradient3\n",
       "[[-0.071  0.97   0.234]\n",
       " [-0.874 -0.174  0.453]\n",
       " [ 0.48  -0.173  0.86 ]]"
      ]
     },
     "execution_count": 15,
     "metadata": {},
     "output_type": "execute_result"
    }
   ],
   "source": [
    "p1 = pair(150, 60, 90, 40)\n",
    "p2 = pair(45, 30, 10, 25)\n",
    "R = defgrad.from_two_pairs(p1, p2)\n",
    "R"
   ]
  },
  {
   "cell_type": "code",
   "execution_count": 16,
   "metadata": {
    "execution": {
     "iopub.execute_input": "2022-10-11T21:34:54.297498Z",
     "iopub.status.busy": "2022-10-11T21:34:54.297141Z",
     "iopub.status.idle": "2022-10-11T21:34:54.302716Z",
     "shell.execute_reply": "2022-10-11T21:34:54.302153Z"
    }
   },
   "outputs": [
    {
     "data": {
      "text/plain": [
       "P:45/30-10/25"
      ]
     },
     "execution_count": 16,
     "metadata": {},
     "output_type": "execute_result"
    }
   ],
   "source": [
    "p1.transform(R)"
   ]
  },
  {
   "cell_type": "markdown",
   "metadata": {},
   "source": [
    "### Ellipsoid\n",
    "\n",
    "In deformation analysis, the quadratic forms are represented by `Ellipsoid` class. It could be used to represents either ellipsoid objects or finite strain ellipsoid.\n",
    "\n",
    "It provides additional methods and properties including `lambda1`, `lambda2` and `lambda3` for square-root of eigenvalues, Woodcock's `shape` and `strength`, `k`, `K`, `d` and `D` for Flinn's and Ramsay symmetries and intensities, `lode` for Lode's parameter etc. For more check documentation. Eigenvectors could be also represented by linear or planar features using properties `eigenlins` and `eigenfols`.\n",
    "\n",
    "We can create `Ellipsoid` object similarly to `Matrix3` (note that only components of upper triangular part are available in `from_comp` method due to matrix symmetry), or you can use aditional class methods `from_defgrad` and `from_stretch`."
   ]
  },
  {
   "cell_type": "code",
   "execution_count": 17,
   "metadata": {
    "execution": {
     "iopub.execute_input": "2022-10-11T21:34:54.305251Z",
     "iopub.status.busy": "2022-10-11T21:34:54.304920Z",
     "iopub.status.idle": "2022-10-11T21:34:54.310197Z",
     "shell.execute_reply": "2022-10-11T21:34:54.309629Z"
    }
   },
   "outputs": [
    {
     "data": {
      "text/plain": [
       "Ellipsoid\n",
       "[[5.   0.   0.5 ]\n",
       " [0.   1.   0.  ]\n",
       " [0.5  0.   0.25]]\n",
       "(λ1:2.25, λ2:1, λ3:0.445)"
      ]
     },
     "execution_count": 17,
     "metadata": {},
     "output_type": "execute_result"
    }
   ],
   "source": [
    "B = ellipsoid.from_defgrad(F)  # Finger deformation tensor\n",
    "B"
   ]
  },
  {
   "cell_type": "markdown",
   "metadata": {},
   "source": [
    "In above example, the Finger deformation tensor `B` represents finite strain ellipsoid reulting from deformation described by deformation gradient `F`. We can explore several parameters:"
   ]
  },
  {
   "cell_type": "code",
   "execution_count": 18,
   "metadata": {
    "execution": {
     "iopub.execute_input": "2022-10-11T21:34:54.312770Z",
     "iopub.status.busy": "2022-10-11T21:34:54.312469Z",
     "iopub.status.idle": "2022-10-11T21:34:54.318671Z",
     "shell.execute_reply": "2022-10-11T21:34:54.318056Z"
    }
   },
   "outputs": [
    {
     "name": "stdout",
     "output_type": "stream",
     "text": [
      "Principal stretches: Sx=2.247679020649623, Sy=1.0, Sz=0.4449033829176287\n",
      "Principal strain ratios: Rxy=2.247679020649623, Ryz=2.247679020649623\n",
      "Flinn's finite strain parameters: d=1.764484592491078, k=1.0\n",
      "Ramsay's finite strain parameters: d=1.3118699860194967, k=1.0\n",
      "Woodcock's parameters: strength=1.6197962748564998, shape=1.0\n",
      "Watterson's strain intesity: s3.495358041299246\n",
      "Nadai's natural octahedral unit shear: 1.3225581202197991\n",
      "Nadai's natural octahedral unit strain: 1.1453689300917396\n",
      "Lode's parameter: 0.0\n"
     ]
    }
   ],
   "source": [
    "print(f'Principal stretches: Sx={B.lambda1}, Sy={B.lambda2}, Sz={B.lambda3}')\n",
    "print(f'Principal strain ratios: Rxy={B.Rxy}, Ryz={B.Ryz}')\n",
    "print(f\"Flinn's finite strain parameters: d={B.d}, k={B.k}\")\n",
    "print(f\"Ramsay's finite strain parameters: d={B.D}, k={B.K}\")\n",
    "print(f\"Woodcock's parameters: strength={B.strength}, shape={B.shape}\")\n",
    "print(f\"Watterson's strain intesity: s{B.r}\")\n",
    "print(f\"Nadai's natural octahedral unit shear: {B.goct}\")\n",
    "print(f\"Nadai's natural octahedral unit strain: {B.eoct}\")\n",
    "print(f\"Lode's parameter: {B.lode}\")"
   ]
  },
  {
   "cell_type": "code",
   "execution_count": 19,
   "metadata": {
    "execution": {
     "iopub.execute_input": "2022-10-11T21:34:54.321323Z",
     "iopub.status.busy": "2022-10-11T21:34:54.320770Z",
     "iopub.status.idle": "2022-10-11T21:34:54.326516Z",
     "shell.execute_reply": "2022-10-11T21:34:54.325870Z"
    }
   },
   "outputs": [
    {
     "data": {
      "text/plain": [
       "Ellipsoid\n",
       "[[4.   0.   2.  ]\n",
       " [0.   1.   0.  ]\n",
       " [2.   0.   1.25]]\n",
       "(λ1:2.25, λ2:1, λ3:0.445)"
      ]
     },
     "execution_count": 19,
     "metadata": {},
     "output_type": "execute_result"
    }
   ],
   "source": [
    "C = ellipsoid.from_defgrad(F, 'right')  # Green's deformation tensor\n",
    "C"
   ]
  },
  {
   "cell_type": "code",
   "execution_count": 20,
   "metadata": {
    "execution": {
     "iopub.execute_input": "2022-10-11T21:34:54.328981Z",
     "iopub.status.busy": "2022-10-11T21:34:54.328675Z",
     "iopub.status.idle": "2022-10-11T21:34:54.333347Z",
     "shell.execute_reply": "2022-10-11T21:34:54.332850Z"
    }
   },
   "outputs": [
    {
     "data": {
      "text/plain": [
       "1.25"
      ]
     },
     "execution_count": 20,
     "metadata": {},
     "output_type": "execute_result"
    }
   ],
   "source": [
    "v @ C @ v"
   ]
  },
  {
   "cell_type": "markdown",
   "metadata": {},
   "source": [
    "### Orientation tensor\n",
    "`OrientationTensor3` class represents orientation tensor of set of vectors, linear or planar features. In adition to `Ellipsoid` methods and properties, it provides properties to describe orientation distribution, e.g. Vollmer's `P`, `G`, `R` and `B` indexes, `Intensity` for Lisle intensity index and `MAD` for approximate angular deviation."
   ]
  },
  {
   "cell_type": "code",
   "execution_count": 21,
   "metadata": {
    "execution": {
     "iopub.execute_input": "2022-10-11T21:34:54.335430Z",
     "iopub.status.busy": "2022-10-11T21:34:54.335251Z",
     "iopub.status.idle": "2022-10-11T21:34:54.349969Z",
     "shell.execute_reply": "2022-10-11T21:34:54.349569Z"
    }
   },
   "outputs": [
    {
     "data": {
      "text/plain": [
       "OrientationTensor3\n",
       "[[ 0.193 -0.244 -0.223]\n",
       " [-0.244  0.437  0.357]\n",
       " [-0.223  0.357  0.37 ]]\n",
       "(λ1:0.956, λ2:0.212, λ3:0.203)"
      ]
     },
     "execution_count": 21,
     "metadata": {},
     "output_type": "execute_result"
    }
   ],
   "source": [
    "l = linset.random_fisher(position=lin(120,40))\n",
    "ot = l.ortensor()\n",
    "# or\n",
    "ot = ortensor.from_features(l)\n",
    "ot"
   ]
  },
  {
   "cell_type": "code",
   "execution_count": 22,
   "metadata": {
    "execution": {
     "iopub.execute_input": "2022-10-11T21:34:54.352054Z",
     "iopub.status.busy": "2022-10-11T21:34:54.351832Z",
     "iopub.status.idle": "2022-10-11T21:34:54.356005Z",
     "shell.execute_reply": "2022-10-11T21:34:54.355378Z"
    }
   },
   "outputs": [
    {
     "data": {
      "text/plain": [
       "(0.9134880814999201, 0.0451414844303938, 0.04137043406968558)"
      ]
     },
     "execution_count": 22,
     "metadata": {},
     "output_type": "execute_result"
    }
   ],
   "source": [
    "ot.eigenvalues()"
   ]
  },
  {
   "cell_type": "code",
   "execution_count": 23,
   "metadata": {
    "execution": {
     "iopub.execute_input": "2022-10-11T21:34:54.358279Z",
     "iopub.status.busy": "2022-10-11T21:34:54.358069Z",
     "iopub.status.idle": "2022-10-11T21:34:54.362161Z",
     "shell.execute_reply": "2022-10-11T21:34:54.361493Z"
    }
   },
   "outputs": [
    {
     "data": {
      "text/plain": [
       "(Vector3(-0.417, 0.672, 0.612),\n",
       " Vector3(0.227, 0.729, -0.646),\n",
       " Vector3(-0.88, -0.13, -0.456))"
      ]
     },
     "execution_count": 23,
     "metadata": {},
     "output_type": "execute_result"
    }
   ],
   "source": [
    "ot.eigenvectors()"
   ]
  },
  {
   "cell_type": "code",
   "execution_count": 24,
   "metadata": {
    "execution": {
     "iopub.execute_input": "2022-10-11T21:34:54.364269Z",
     "iopub.status.busy": "2022-10-11T21:34:54.364067Z",
     "iopub.status.idle": "2022-10-11T21:34:54.367933Z",
     "shell.execute_reply": "2022-10-11T21:34:54.367296Z"
    }
   },
   "outputs": [
    {
     "data": {
      "text/plain": [
       "'L'"
      ]
     },
     "execution_count": 24,
     "metadata": {},
     "output_type": "execute_result"
    }
   ],
   "source": [
    "ot.kind"
   ]
  },
  {
   "cell_type": "markdown",
   "metadata": {},
   "source": [
    "The instances of `Stress3`, `Ellipsoid` and `OrientationTensor3` also provides `eigenlins` and `eigenfols` properties to represent principal axes and planes"
   ]
  },
  {
   "cell_type": "code",
   "execution_count": 25,
   "metadata": {
    "execution": {
     "iopub.execute_input": "2022-10-11T21:34:54.370100Z",
     "iopub.status.busy": "2022-10-11T21:34:54.369885Z",
     "iopub.status.idle": "2022-10-11T21:34:54.373874Z",
     "shell.execute_reply": "2022-10-11T21:34:54.373251Z"
    }
   },
   "outputs": [
    {
     "data": {
      "text/plain": [
       "(L:122/38, L:253/40, L:8/27)"
      ]
     },
     "execution_count": 25,
     "metadata": {},
     "output_type": "execute_result"
    }
   ],
   "source": [
    "ot.eigenlins"
   ]
  },
  {
   "cell_type": "code",
   "execution_count": 26,
   "metadata": {
    "execution": {
     "iopub.execute_input": "2022-10-11T21:34:54.375867Z",
     "iopub.status.busy": "2022-10-11T21:34:54.375617Z",
     "iopub.status.idle": "2022-10-11T21:34:54.379695Z",
     "shell.execute_reply": "2022-10-11T21:34:54.379226Z"
    }
   },
   "outputs": [
    {
     "data": {
      "text/plain": [
       "(S:302/52, S:73/50, S:188/63)"
      ]
     },
     "execution_count": 26,
     "metadata": {},
     "output_type": "execute_result"
    }
   ],
   "source": [
    "ot.eigenfols"
   ]
  },
  {
   "cell_type": "code",
   "execution_count": 27,
   "metadata": {
    "execution": {
     "iopub.execute_input": "2022-10-11T21:34:54.381789Z",
     "iopub.status.busy": "2022-10-11T21:34:54.381572Z",
     "iopub.status.idle": "2022-10-11T21:34:54.385240Z",
     "shell.execute_reply": "2022-10-11T21:34:54.384833Z"
    }
   },
   "outputs": [
    {
     "data": {
      "text/plain": [
       "(1.5473519279323478, 34.47540965023214)"
      ]
     },
     "execution_count": 27,
     "metadata": {},
     "output_type": "execute_result"
    }
   ],
   "source": [
    "ot.strength, ot.shape"
   ]
  },
  {
   "cell_type": "code",
   "execution_count": 28,
   "metadata": {
    "execution": {
     "iopub.execute_input": "2022-10-11T21:34:54.387343Z",
     "iopub.status.busy": "2022-10-11T21:34:54.387121Z",
     "iopub.status.idle": "2022-10-11T21:34:54.390301Z",
     "shell.execute_reply": "2022-10-11T21:34:54.389915Z"
    }
   },
   "outputs": [
    {
     "data": {
      "text/plain": [
       "(78.47095359191155, 3.498740553627028)"
      ]
     },
     "execution_count": 28,
     "metadata": {},
     "output_type": "execute_result"
    }
   ],
   "source": [
    "ot.k, ot.d"
   ]
  },
  {
   "cell_type": "code",
   "execution_count": 29,
   "metadata": {
    "execution": {
     "iopub.execute_input": "2022-10-11T21:34:54.392304Z",
     "iopub.status.busy": "2022-10-11T21:34:54.392114Z",
     "iopub.status.idle": "2022-10-11T21:34:54.395218Z",
     "shell.execute_reply": "2022-10-11T21:34:54.394758Z"
    }
   },
   "outputs": [
    {
     "data": {
      "text/plain": [
       "(34.47540965023214, 2.2631194487293183)"
      ]
     },
     "execution_count": 29,
     "metadata": {},
     "output_type": "execute_result"
    }
   ],
   "source": [
    "ot.K, ot.D"
   ]
  },
  {
   "cell_type": "code",
   "execution_count": 30,
   "metadata": {
    "execution": {
     "iopub.execute_input": "2022-10-11T21:34:54.397220Z",
     "iopub.status.busy": "2022-10-11T21:34:54.397035Z",
     "iopub.status.idle": "2022-10-11T21:34:54.400174Z",
     "shell.execute_reply": "2022-10-11T21:34:54.399747Z"
    }
   },
   "outputs": [
    {
     "data": {
      "text/plain": [
       "(0.8683465970695263, 0.0075421007214164365, 0.12411130220905675)"
      ]
     },
     "execution_count": 30,
     "metadata": {},
     "output_type": "execute_result"
    }
   ],
   "source": [
    "ot.P, ot.G, ot.R"
   ]
  },
  {
   "cell_type": "code",
   "execution_count": 31,
   "metadata": {
    "execution": {
     "iopub.execute_input": "2022-10-11T21:34:54.402302Z",
     "iopub.status.busy": "2022-10-11T21:34:54.402087Z",
     "iopub.status.idle": "2022-10-11T21:34:54.405279Z",
     "shell.execute_reply": "2022-10-11T21:34:54.404857Z"
    }
   },
   "outputs": [
    {
     "data": {
      "text/plain": [
       "17.105320836980724"
      ]
     },
     "execution_count": 31,
     "metadata": {},
     "output_type": "execute_result"
    }
   ],
   "source": [
    "ot.MAD"
   ]
  },
  {
   "cell_type": "code",
   "execution_count": null,
   "metadata": {},
   "outputs": [],
   "source": []
  }
 ],
 "metadata": {
  "kernelspec": {
   "display_name": "Python 3 (ipykernel)",
   "language": "python",
   "name": "python3"
  },
  "language_info": {
   "codemirror_mode": {
    "name": "ipython",
    "version": 3
   },
   "file_extension": ".py",
   "mimetype": "text/x-python",
   "name": "python",
   "nbconvert_exporter": "python",
   "pygments_lexer": "ipython3",
   "version": "3.10.6"
  }
 },
 "nbformat": 4,
 "nbformat_minor": 4
}
