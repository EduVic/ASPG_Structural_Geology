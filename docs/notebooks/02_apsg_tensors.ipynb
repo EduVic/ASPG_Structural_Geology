{
 "cells": [
  {
   "cell_type": "markdown",
   "metadata": {},
   "source": [
    "# APSG tutorial - Part 2"
   ]
  },
  {
   "cell_type": "code",
   "execution_count": 1,
   "metadata": {
    "execution": {
     "iopub.execute_input": "2022-11-15T00:28:43.416315Z",
     "iopub.status.busy": "2022-11-15T00:28:43.415583Z",
     "iopub.status.idle": "2022-11-15T00:28:44.023167Z",
     "shell.execute_reply": "2022-11-15T00:28:44.022565Z"
    }
   },
   "outputs": [],
   "source": [
    "from apsg import *"
   ]
  },
  {
   "cell_type": "markdown",
   "metadata": {},
   "source": [
    "## Matrix like classes and tensors\n",
    "**APSG** provides matrix-like classes to work with tensor quantities used commonly in structural geology analysis. It includes `DefGrad3` and `VelGrad3` for deformation and velocity gradient, `Stress3` for stress tensor, `Ellipsoid` for quadratic forms and `Ortensor3` for orientation tensor. All these classes support common matrix mathematical operations and provide basic methods and properties.\n",
    "\n",
    "All matrix-like objects could be created either by passing nested list or tuple or providing individual components to class method `from_comp`"
   ]
  },
  {
   "cell_type": "code",
   "execution_count": 2,
   "metadata": {
    "execution": {
     "iopub.execute_input": "2022-11-15T00:28:44.026436Z",
     "iopub.status.busy": "2022-11-15T00:28:44.026026Z",
     "iopub.status.idle": "2022-11-15T00:28:44.033825Z",
     "shell.execute_reply": "2022-11-15T00:28:44.033436Z"
    }
   },
   "outputs": [
    {
     "data": {
      "text/plain": [
       "DeformationGradient3\n",
       "[[2.  0.  1. ]\n",
       " [0.  1.  0. ]\n",
       " [0.  0.  0.5]]"
      ]
     },
     "execution_count": 2,
     "metadata": {},
     "output_type": "execute_result"
    }
   ],
   "source": [
    "F = defgrad([[2, 0, 1], [0, 1, 0], [0, 0, 0.5]])\n",
    "F"
   ]
  },
  {
   "cell_type": "code",
   "execution_count": 3,
   "metadata": {
    "execution": {
     "iopub.execute_input": "2022-11-15T00:28:44.067981Z",
     "iopub.status.busy": "2022-11-15T00:28:44.067206Z",
     "iopub.status.idle": "2022-11-15T00:28:44.071800Z",
     "shell.execute_reply": "2022-11-15T00:28:44.071281Z"
    }
   },
   "outputs": [
    {
     "data": {
      "text/plain": [
       "DeformationGradient3\n",
       "[[2.  0.  1. ]\n",
       " [0.  1.  0. ]\n",
       " [0.  0.  0.5]]"
      ]
     },
     "execution_count": 3,
     "metadata": {},
     "output_type": "execute_result"
    }
   ],
   "source": [
    "F = defgrad.from_comp(xx=2, zz=0.5, xz=1)\n",
    "F"
   ]
  },
  {
   "cell_type": "markdown",
   "metadata": {},
   "source": [
    "For multiplifications of matrix or vectors we have to use matmul `@` operator"
   ]
  },
  {
   "cell_type": "code",
   "execution_count": 4,
   "metadata": {
    "execution": {
     "iopub.execute_input": "2022-11-15T00:28:44.074626Z",
     "iopub.status.busy": "2022-11-15T00:28:44.074343Z",
     "iopub.status.idle": "2022-11-15T00:28:44.078332Z",
     "shell.execute_reply": "2022-11-15T00:28:44.077898Z"
    }
   },
   "outputs": [
    {
     "data": {
      "text/plain": [
       "Vector3(1, 0, 0.5)"
      ]
     },
     "execution_count": 4,
     "metadata": {},
     "output_type": "execute_result"
    }
   ],
   "source": [
    "v = vec('z') # unit-length vector in direction af axis z\n",
    "u = F @ v\n",
    "u"
   ]
  },
  {
   "cell_type": "markdown",
   "metadata": {},
   "source": [
    "`I` property returns inverse matrix"
   ]
  },
  {
   "cell_type": "code",
   "execution_count": 5,
   "metadata": {
    "execution": {
     "iopub.execute_input": "2022-11-15T00:28:44.080789Z",
     "iopub.status.busy": "2022-11-15T00:28:44.080596Z",
     "iopub.status.idle": "2022-11-15T00:28:44.085321Z",
     "shell.execute_reply": "2022-11-15T00:28:44.084773Z"
    }
   },
   "outputs": [
    {
     "data": {
      "text/plain": [
       "Vector3(0, 0, 1)"
      ]
     },
     "execution_count": 5,
     "metadata": {},
     "output_type": "execute_result"
    }
   ],
   "source": [
    "F.I @ u"
   ]
  },
  {
   "cell_type": "markdown",
   "metadata": {},
   "source": [
    "To transpose matrix, we can use `T` property and for multiplification we have to use `@` operator"
   ]
  },
  {
   "cell_type": "code",
   "execution_count": 6,
   "metadata": {
    "execution": {
     "iopub.execute_input": "2022-11-15T00:28:44.087552Z",
     "iopub.status.busy": "2022-11-15T00:28:44.087346Z",
     "iopub.status.idle": "2022-11-15T00:28:44.092527Z",
     "shell.execute_reply": "2022-11-15T00:28:44.091922Z"
    }
   },
   "outputs": [
    {
     "data": {
      "text/plain": [
       "DeformationGradient3\n",
       "[[4.   0.   2.  ]\n",
       " [0.   1.   0.  ]\n",
       " [2.   0.   1.25]]"
      ]
     },
     "execution_count": 6,
     "metadata": {},
     "output_type": "execute_result"
    }
   ],
   "source": [
    "F.T @ F"
   ]
  },
  {
   "cell_type": "code",
   "execution_count": 7,
   "metadata": {
    "execution": {
     "iopub.execute_input": "2022-11-15T00:28:44.095503Z",
     "iopub.status.busy": "2022-11-15T00:28:44.094995Z",
     "iopub.status.idle": "2022-11-15T00:28:44.100555Z",
     "shell.execute_reply": "2022-11-15T00:28:44.099963Z"
    }
   },
   "outputs": [
    {
     "data": {
      "text/plain": [
       "1.25"
      ]
     },
     "execution_count": 7,
     "metadata": {},
     "output_type": "execute_result"
    }
   ],
   "source": [
    "v @ F.T @ F @ v"
   ]
  },
  {
   "cell_type": "markdown",
   "metadata": {},
   "source": [
    "Eigenvalues and eigenvectors could be obtained by methods `eigenvalues` and `eigenvectors`. Individual eigenvalues and eigen vectors could be accessed by properties `E1`, `E2`, `E3` and `V1`, `V2`, `V3`"
   ]
  },
  {
   "cell_type": "markdown",
   "metadata": {},
   "source": [
    "#### Deformation gradient and rotations\n",
    "\n",
    "Deformation gradient `DeformationGradient3` could describe distorsion, dilation and rigid-body rotation. All **APSG** features provides `transform` method which transform then using provided deformation gradient.\n",
    "\n",
    "The rigid-body rotation could be either extracted from deformation gradient using `R` method:"
   ]
  },
  {
   "cell_type": "code",
   "execution_count": 8,
   "metadata": {
    "execution": {
     "iopub.execute_input": "2022-11-15T00:28:44.103648Z",
     "iopub.status.busy": "2022-11-15T00:28:44.103071Z",
     "iopub.status.idle": "2022-11-15T00:28:44.108267Z",
     "shell.execute_reply": "2022-11-15T00:28:44.107570Z"
    }
   },
   "outputs": [
    {
     "data": {
      "text/plain": [
       "DeformationGradient3\n",
       "[[ 0.928  0.     0.371]\n",
       " [ 0.     1.     0.   ]\n",
       " [-0.371  0.     0.928]]"
      ]
     },
     "execution_count": 8,
     "metadata": {},
     "output_type": "execute_result"
    }
   ],
   "source": [
    "R = F.R\n",
    "R"
   ]
  },
  {
   "cell_type": "markdown",
   "metadata": {},
   "source": [
    "or could be created of one of the class methods like `from_axisangle`, defining axis of rotation and angle"
   ]
  },
  {
   "cell_type": "code",
   "execution_count": 9,
   "metadata": {
    "execution": {
     "iopub.execute_input": "2022-11-15T00:28:44.111014Z",
     "iopub.status.busy": "2022-11-15T00:28:44.110758Z",
     "iopub.status.idle": "2022-11-15T00:28:44.115325Z",
     "shell.execute_reply": "2022-11-15T00:28:44.114747Z"
    }
   },
   "outputs": [
    {
     "data": {
      "text/plain": [
       "DeformationGradient3\n",
       "[[ 0.552 -0.753  0.359]\n",
       " [ 0.574  0.655  0.492]\n",
       " [-0.605 -0.065  0.793]]"
      ]
     },
     "execution_count": 9,
     "metadata": {},
     "output_type": "execute_result"
    }
   ],
   "source": [
    "R = defgrad.from_axisangle(lin(120, 50), 60)\n",
    "R"
   ]
  },
  {
   "cell_type": "markdown",
   "metadata": {},
   "source": [
    "`from_two_vectors`, where axis of rotation is perpendicular to both vectors and angle is angle of vectors"
   ]
  },
  {
   "cell_type": "code",
   "execution_count": 10,
   "metadata": {
    "execution": {
     "iopub.execute_input": "2022-11-15T00:28:44.118273Z",
     "iopub.status.busy": "2022-11-15T00:28:44.117737Z",
     "iopub.status.idle": "2022-11-15T00:28:44.123988Z",
     "shell.execute_reply": "2022-11-15T00:28:44.123268Z"
    }
   },
   "outputs": [
    {
     "data": {
      "text/plain": [
       "DeformationGradient3\n",
       "[[ 0.938  0.074  0.339]\n",
       " [ 0.186  0.718 -0.671]\n",
       " [-0.294  0.692  0.66 ]]"
      ]
     },
     "execution_count": 10,
     "metadata": {},
     "output_type": "execute_result"
    }
   ],
   "source": [
    "R = defgrad.from_two_vectors(lin(120, 50), lin(270, 80))\n",
    "R"
   ]
  },
  {
   "cell_type": "code",
   "execution_count": 11,
   "metadata": {
    "execution": {
     "iopub.execute_input": "2022-11-15T00:28:44.127196Z",
     "iopub.status.busy": "2022-11-15T00:28:44.126860Z",
     "iopub.status.idle": "2022-11-15T00:28:44.132626Z",
     "shell.execute_reply": "2022-11-15T00:28:44.132006Z"
    }
   },
   "outputs": [
    {
     "data": {
      "text/plain": [
       "L:270/80"
      ]
     },
     "execution_count": 11,
     "metadata": {},
     "output_type": "execute_result"
    }
   ],
   "source": [
    "lin(120, 50).transform(R)"
   ]
  },
  {
   "cell_type": "markdown",
   "metadata": {},
   "source": [
    "or by `from_vectors_axis`, where `axis` do not need to by perpendicular to vectors. Note that rotation axis needs to be adjusted to provide correct rotation of vector."
   ]
  },
  {
   "cell_type": "code",
   "execution_count": 12,
   "metadata": {
    "execution": {
     "iopub.execute_input": "2022-11-15T00:28:44.135534Z",
     "iopub.status.busy": "2022-11-15T00:28:44.135063Z",
     "iopub.status.idle": "2022-11-15T00:28:44.141752Z",
     "shell.execute_reply": "2022-11-15T00:28:44.141207Z"
    }
   },
   "outputs": [
    {
     "data": {
      "text/plain": [
       "DeformationGradient3\n",
       "[[-0.393 -0.864  0.315]\n",
       " [ 0.864 -0.23   0.448]\n",
       " [-0.315  0.448  0.837]]"
      ]
     },
     "execution_count": 12,
     "metadata": {},
     "output_type": "execute_result"
    }
   ],
   "source": [
    "R = defgrad.from_vectors_axis(lin(45,30), lin(135, 30), lin(90, 70))\n",
    "R"
   ]
  },
  {
   "cell_type": "code",
   "execution_count": 13,
   "metadata": {
    "execution": {
     "iopub.execute_input": "2022-11-15T00:28:44.144831Z",
     "iopub.status.busy": "2022-11-15T00:28:44.144350Z",
     "iopub.status.idle": "2022-11-15T00:28:44.149166Z",
     "shell.execute_reply": "2022-11-15T00:28:44.148473Z"
    }
   },
   "outputs": [
    {
     "data": {
      "text/plain": [
       "L:135/30"
      ]
     },
     "execution_count": 13,
     "metadata": {},
     "output_type": "execute_result"
    }
   ],
   "source": [
    "lin(45,30).transform(R)"
   ]
  },
  {
   "cell_type": "code",
   "execution_count": 14,
   "metadata": {
    "execution": {
     "iopub.execute_input": "2022-11-15T00:28:44.151917Z",
     "iopub.status.busy": "2022-11-15T00:28:44.151523Z",
     "iopub.status.idle": "2022-11-15T00:28:44.155454Z",
     "shell.execute_reply": "2022-11-15T00:28:44.154876Z"
    }
   },
   "outputs": [
    {
     "name": "stdout",
     "output_type": "stream",
     "text": [
      "L:90/70 113.1157146919613\n"
     ]
    }
   ],
   "source": [
    "a, ang = R.axisangle()\n",
    "print(lin(a), ang)"
   ]
  },
  {
   "cell_type": "markdown",
   "metadata": {},
   "source": [
    "`from_two_pairs` method, to describe rotation between two coordinate systems. Note that pair define X axis as lineation vector and Z axis as foliation vector."
   ]
  },
  {
   "cell_type": "code",
   "execution_count": 15,
   "metadata": {
    "execution": {
     "iopub.execute_input": "2022-11-15T00:28:44.158994Z",
     "iopub.status.busy": "2022-11-15T00:28:44.158386Z",
     "iopub.status.idle": "2022-11-15T00:28:44.166547Z",
     "shell.execute_reply": "2022-11-15T00:28:44.165864Z"
    }
   },
   "outputs": [
    {
     "data": {
      "text/plain": [
       "DeformationGradient3\n",
       "[[-0.071  0.97   0.234]\n",
       " [-0.874 -0.174  0.453]\n",
       " [ 0.48  -0.173  0.86 ]]"
      ]
     },
     "execution_count": 15,
     "metadata": {},
     "output_type": "execute_result"
    }
   ],
   "source": [
    "p1 = pair(150, 60, 90, 40)\n",
    "p2 = pair(45, 30, 10, 25)\n",
    "R = defgrad.from_two_pairs(p1, p2)\n",
    "R"
   ]
  },
  {
   "cell_type": "code",
   "execution_count": 16,
   "metadata": {
    "execution": {
     "iopub.execute_input": "2022-11-15T00:28:44.170052Z",
     "iopub.status.busy": "2022-11-15T00:28:44.169457Z",
     "iopub.status.idle": "2022-11-15T00:28:44.176356Z",
     "shell.execute_reply": "2022-11-15T00:28:44.175589Z"
    }
   },
   "outputs": [
    {
     "data": {
      "text/plain": [
       "P:45/30-10/25"
      ]
     },
     "execution_count": 16,
     "metadata": {},
     "output_type": "execute_result"
    }
   ],
   "source": [
    "p1.transform(R)"
   ]
  },
  {
   "cell_type": "markdown",
   "metadata": {},
   "source": [
    "### Ellipsoid\n",
    "\n",
    "In deformation analysis, the quadratic forms are represented by `Ellipsoid` class. It could be used to represents either ellipsoid objects or finite strain ellipsoid.\n",
    "\n",
    "It provides additional methods and properties including `lambda1`, `lambda2` and `lambda3` for square-root of eigenvalues, Woodcock's `shape` and `strength`, `k`, `K`, `d` and `D` for Flinn's and Ramsay symmetries and intensities, `lode` for Lode's parameter etc. For more check documentation. Eigenvectors could be also represented by linear or planar features using properties `eigenlins` and `eigenfols`.\n",
    "\n",
    "We can create `Ellipsoid` object similarly to `Matrix3` (note that only components of upper triangular part are available in `from_comp` method due to matrix symmetry), or you can use aditional class methods `from_defgrad` and `from_stretch`."
   ]
  },
  {
   "cell_type": "code",
   "execution_count": 17,
   "metadata": {
    "execution": {
     "iopub.execute_input": "2022-11-15T00:28:44.179422Z",
     "iopub.status.busy": "2022-11-15T00:28:44.179137Z",
     "iopub.status.idle": "2022-11-15T00:28:44.184289Z",
     "shell.execute_reply": "2022-11-15T00:28:44.183560Z"
    }
   },
   "outputs": [
    {
     "data": {
      "text/plain": [
       "Ellipsoid\n",
       "[[5.   0.   0.5 ]\n",
       " [0.   1.   0.  ]\n",
       " [0.5  0.   0.25]]\n",
       "(λ1:2.25, λ2:1, λ3:0.445)"
      ]
     },
     "execution_count": 17,
     "metadata": {},
     "output_type": "execute_result"
    }
   ],
   "source": [
    "B = ellipsoid.from_defgrad(F)  # Finger deformation tensor\n",
    "B"
   ]
  },
  {
   "cell_type": "markdown",
   "metadata": {},
   "source": [
    "In above example, the Finger deformation tensor `B` represents finite strain ellipsoid reulting from deformation described by deformation gradient `F`. We can explore several parameters:"
   ]
  },
  {
   "cell_type": "code",
   "execution_count": 18,
   "metadata": {
    "execution": {
     "iopub.execute_input": "2022-11-15T00:28:44.188199Z",
     "iopub.status.busy": "2022-11-15T00:28:44.187878Z",
     "iopub.status.idle": "2022-11-15T00:28:44.193223Z",
     "shell.execute_reply": "2022-11-15T00:28:44.192688Z"
    }
   },
   "outputs": [
    {
     "name": "stdout",
     "output_type": "stream",
     "text": [
      "Principal stretches: Sx=2.2476790206496235, Sy=1.0, Sz=0.44490338291762865\n",
      "Principal strain ratios: Rxy=2.2476790206496235, Ryz=2.2476790206496235\n",
      "Flinn's finite strain parameters: d=1.7644845924910786, k=1.0\n",
      "Ramsay's finite strain parameters: d=1.3118699860194973, k=1.0\n",
      "Woodcock's parameters: strength=1.6197962748565002, shape=1.0\n",
      "Watterson's strain intesity: s3.495358041299247\n",
      "Nadai's natural octahedral unit shear: 1.3225581202197996\n",
      "Nadai's natural octahedral unit strain: 1.14536893009174\n",
      "Lode's parameter: 0.0\n"
     ]
    }
   ],
   "source": [
    "print(f'Principal stretches: Sx={B.lambda1}, Sy={B.lambda2}, Sz={B.lambda3}')\n",
    "print(f'Principal strain ratios: Rxy={B.Rxy}, Ryz={B.Ryz}')\n",
    "print(f\"Flinn's finite strain parameters: d={B.d}, k={B.k}\")\n",
    "print(f\"Ramsay's finite strain parameters: d={B.D}, k={B.K}\")\n",
    "print(f\"Woodcock's parameters: strength={B.strength}, shape={B.shape}\")\n",
    "print(f\"Watterson's strain intesity: s{B.r}\")\n",
    "print(f\"Nadai's natural octahedral unit shear: {B.goct}\")\n",
    "print(f\"Nadai's natural octahedral unit strain: {B.eoct}\")\n",
    "print(f\"Lode's parameter: {B.lode}\")"
   ]
  },
  {
   "cell_type": "code",
   "execution_count": 19,
   "metadata": {
    "execution": {
     "iopub.execute_input": "2022-11-15T00:28:44.197624Z",
     "iopub.status.busy": "2022-11-15T00:28:44.197348Z",
     "iopub.status.idle": "2022-11-15T00:28:44.201655Z",
     "shell.execute_reply": "2022-11-15T00:28:44.201181Z"
    }
   },
   "outputs": [
    {
     "data": {
      "text/plain": [
       "Ellipsoid\n",
       "[[4.   0.   2.  ]\n",
       " [0.   1.   0.  ]\n",
       " [2.   0.   1.25]]\n",
       "(λ1:2.25, λ2:1, λ3:0.445)"
      ]
     },
     "execution_count": 19,
     "metadata": {},
     "output_type": "execute_result"
    }
   ],
   "source": [
    "C = ellipsoid.from_defgrad(F, 'right')  # Green's deformation tensor\n",
    "C"
   ]
  },
  {
   "cell_type": "code",
   "execution_count": 20,
   "metadata": {
    "execution": {
     "iopub.execute_input": "2022-11-15T00:28:44.204259Z",
     "iopub.status.busy": "2022-11-15T00:28:44.204015Z",
     "iopub.status.idle": "2022-11-15T00:28:44.207707Z",
     "shell.execute_reply": "2022-11-15T00:28:44.207201Z"
    }
   },
   "outputs": [
    {
     "data": {
      "text/plain": [
       "1.25"
      ]
     },
     "execution_count": 20,
     "metadata": {},
     "output_type": "execute_result"
    }
   ],
   "source": [
    "v @ C @ v"
   ]
  },
  {
   "cell_type": "markdown",
   "metadata": {},
   "source": [
    "### Orientation tensor\n",
    "`OrientationTensor3` class represents orientation tensor of set of vectors, linear or planar features. In adition to `Ellipsoid` methods and properties, it provides properties to describe orientation distribution, e.g. Vollmer's `P`, `G`, `R` and `B` indexes, `Intensity` for Lisle intensity index and `MAD` for approximate angular deviation."
   ]
  },
  {
   "cell_type": "code",
   "execution_count": 21,
   "metadata": {
    "execution": {
     "iopub.execute_input": "2022-11-15T00:28:44.212803Z",
     "iopub.status.busy": "2022-11-15T00:28:44.212380Z",
     "iopub.status.idle": "2022-11-15T00:28:44.238724Z",
     "shell.execute_reply": "2022-11-15T00:28:44.237993Z"
    }
   },
   "outputs": [
    {
     "data": {
      "text/plain": [
       "OrientationTensor3\n",
       "[[ 0.188 -0.235 -0.221]\n",
       " [-0.235  0.428  0.341]\n",
       " [-0.221  0.341  0.385]]\n",
       "(λ1:0.946, λ2:0.253, λ3:0.202)"
      ]
     },
     "execution_count": 21,
     "metadata": {},
     "output_type": "execute_result"
    }
   ],
   "source": [
    "l = linset.random_fisher(position=lin(120,40))\n",
    "ot = l.ortensor()\n",
    "# or\n",
    "ot = ortensor.from_features(l)\n",
    "ot"
   ]
  },
  {
   "cell_type": "code",
   "execution_count": 22,
   "metadata": {
    "execution": {
     "iopub.execute_input": "2022-11-15T00:28:44.245651Z",
     "iopub.status.busy": "2022-11-15T00:28:44.245180Z",
     "iopub.status.idle": "2022-11-15T00:28:44.250505Z",
     "shell.execute_reply": "2022-11-15T00:28:44.249707Z"
    }
   },
   "outputs": [
    {
     "data": {
      "text/plain": [
       "(0.8949005959544931, 0.06424681404407766, 0.04085259000142937)"
      ]
     },
     "execution_count": 22,
     "metadata": {},
     "output_type": "execute_result"
    }
   ],
   "source": [
    "ot.eigenvalues()"
   ]
  },
  {
   "cell_type": "code",
   "execution_count": 23,
   "metadata": {
    "execution": {
     "iopub.execute_input": "2022-11-15T00:28:44.254420Z",
     "iopub.status.busy": "2022-11-15T00:28:44.254021Z",
     "iopub.status.idle": "2022-11-15T00:28:44.258869Z",
     "shell.execute_reply": "2022-11-15T00:28:44.258404Z"
    }
   },
   "outputs": [
    {
     "data": {
      "text/plain": [
       "(Vector3(-0.415, 0.663, 0.623),\n",
       " Vector3(-0.001, -0.685, 0.729),\n",
       " Vector3(0.91, 0.302, 0.285))"
      ]
     },
     "execution_count": 23,
     "metadata": {},
     "output_type": "execute_result"
    }
   ],
   "source": [
    "ot.eigenvectors()"
   ]
  },
  {
   "cell_type": "code",
   "execution_count": 24,
   "metadata": {
    "execution": {
     "iopub.execute_input": "2022-11-15T00:28:44.261220Z",
     "iopub.status.busy": "2022-11-15T00:28:44.260904Z",
     "iopub.status.idle": "2022-11-15T00:28:44.264680Z",
     "shell.execute_reply": "2022-11-15T00:28:44.264268Z"
    }
   },
   "outputs": [
    {
     "data": {
      "text/plain": [
       "'LLS'"
      ]
     },
     "execution_count": 24,
     "metadata": {},
     "output_type": "execute_result"
    }
   ],
   "source": [
    "ot.kind"
   ]
  },
  {
   "cell_type": "markdown",
   "metadata": {},
   "source": [
    "The instances of `Stress3`, `Ellipsoid` and `OrientationTensor3` also provides `eigenlins` and `eigenfols` properties to represent principal axes and planes"
   ]
  },
  {
   "cell_type": "code",
   "execution_count": 25,
   "metadata": {
    "execution": {
     "iopub.execute_input": "2022-11-15T00:28:44.267183Z",
     "iopub.status.busy": "2022-11-15T00:28:44.266940Z",
     "iopub.status.idle": "2022-11-15T00:28:44.271460Z",
     "shell.execute_reply": "2022-11-15T00:28:44.270872Z"
    }
   },
   "outputs": [
    {
     "data": {
      "text/plain": [
       "(L:122/39, L:270/47, L:18/17)"
      ]
     },
     "execution_count": 25,
     "metadata": {},
     "output_type": "execute_result"
    }
   ],
   "source": [
    "ot.eigenlins"
   ]
  },
  {
   "cell_type": "code",
   "execution_count": 26,
   "metadata": {
    "execution": {
     "iopub.execute_input": "2022-11-15T00:28:44.273906Z",
     "iopub.status.busy": "2022-11-15T00:28:44.273680Z",
     "iopub.status.idle": "2022-11-15T00:28:44.277445Z",
     "shell.execute_reply": "2022-11-15T00:28:44.276899Z"
    }
   },
   "outputs": [
    {
     "data": {
      "text/plain": [
       "(S:302/51, S:90/43, S:198/73)"
      ]
     },
     "execution_count": 26,
     "metadata": {},
     "output_type": "execute_result"
    }
   ],
   "source": [
    "ot.eigenfols"
   ]
  },
  {
   "cell_type": "code",
   "execution_count": 27,
   "metadata": {
    "execution": {
     "iopub.execute_input": "2022-11-15T00:28:44.279770Z",
     "iopub.status.busy": "2022-11-15T00:28:44.279559Z",
     "iopub.status.idle": "2022-11-15T00:28:44.283413Z",
     "shell.execute_reply": "2022-11-15T00:28:44.282654Z"
    }
   },
   "outputs": [
    {
     "data": {
      "text/plain": [
       "(1.5433712120550136, 5.817584101017142)"
      ]
     },
     "execution_count": 27,
     "metadata": {},
     "output_type": "execute_result"
    }
   ],
   "source": [
    "ot.strength, ot.shape"
   ]
  },
  {
   "cell_type": "code",
   "execution_count": 28,
   "metadata": {
    "execution": {
     "iopub.execute_input": "2022-11-15T00:28:44.286766Z",
     "iopub.status.busy": "2022-11-15T00:28:44.286509Z",
     "iopub.status.idle": "2022-11-15T00:28:44.290480Z",
     "shell.execute_reply": "2022-11-15T00:28:44.289991Z"
    }
   },
   "outputs": [
    {
     "data": {
      "text/plain": [
       "(10.754323666640138, 2.7439578326420158)"
      ]
     },
     "execution_count": 28,
     "metadata": {},
     "output_type": "execute_result"
    }
   ],
   "source": [
    "ot.k, ot.d"
   ]
  },
  {
   "cell_type": "code",
   "execution_count": 29,
   "metadata": {
    "execution": {
     "iopub.execute_input": "2022-11-15T00:28:44.292836Z",
     "iopub.status.busy": "2022-11-15T00:28:44.292637Z",
     "iopub.status.idle": "2022-11-15T00:28:44.296097Z",
     "shell.execute_reply": "2022-11-15T00:28:44.295644Z"
    }
   },
   "outputs": [
    {
     "data": {
      "text/plain": [
       "(5.817584101017142, 1.7857116699736302)"
      ]
     },
     "execution_count": 29,
     "metadata": {},
     "output_type": "execute_result"
    }
   ],
   "source": [
    "ot.K, ot.D"
   ]
  },
  {
   "cell_type": "code",
   "execution_count": 30,
   "metadata": {
    "execution": {
     "iopub.execute_input": "2022-11-15T00:28:44.298275Z",
     "iopub.status.busy": "2022-11-15T00:28:44.298091Z",
     "iopub.status.idle": "2022-11-15T00:28:44.301439Z",
     "shell.execute_reply": "2022-11-15T00:28:44.301034Z"
    }
   },
   "outputs": [
    {
     "data": {
      "text/plain": [
       "(0.8306537819104155, 0.04678844808529657, 0.12255777000428811)"
      ]
     },
     "execution_count": 30,
     "metadata": {},
     "output_type": "execute_result"
    }
   ],
   "source": [
    "ot.P, ot.G, ot.R"
   ]
  },
  {
   "cell_type": "code",
   "execution_count": 31,
   "metadata": {
    "execution": {
     "iopub.execute_input": "2022-11-15T00:28:44.303736Z",
     "iopub.status.busy": "2022-11-15T00:28:44.303519Z",
     "iopub.status.idle": "2022-11-15T00:28:44.307958Z",
     "shell.execute_reply": "2022-11-15T00:28:44.307133Z"
    }
   },
   "outputs": [
    {
     "data": {
      "text/plain": [
       "18.91653177460482"
      ]
     },
     "execution_count": 31,
     "metadata": {},
     "output_type": "execute_result"
    }
   ],
   "source": [
    "ot.MAD"
   ]
  },
  {
   "cell_type": "code",
   "execution_count": null,
   "metadata": {},
   "outputs": [],
   "source": []
  }
 ],
 "metadata": {
  "kernelspec": {
   "display_name": "Python 3 (ipykernel)",
   "language": "python",
   "name": "python3"
  },
  "language_info": {
   "codemirror_mode": {
    "name": "ipython",
    "version": 3
   },
   "file_extension": ".py",
   "mimetype": "text/x-python",
   "name": "python",
   "nbconvert_exporter": "python",
   "pygments_lexer": "ipython3",
   "version": "3.10.6"
  }
 },
 "nbformat": 4,
 "nbformat_minor": 4
}
