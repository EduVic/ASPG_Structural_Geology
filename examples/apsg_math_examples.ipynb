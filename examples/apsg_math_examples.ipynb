{
 "cells": [
  {
   "cell_type": "code",
   "execution_count": 1,
   "metadata": {},
   "outputs": [],
   "source": [
    "%load_ext autoreload\n",
    "%autoreload 2"
   ]
  },
  {
   "cell_type": "markdown",
   "metadata": {
    "inputHidden": false,
    "outputHidden": false
   },
   "source": [
    "# APSG Math\n",
    "\n",
    "## Contents\n",
    "\n",
    "- Matrix class\n",
    "- Vector class\n",
    "- Benchmarks\n",
    "\n",
    "## Matrix\n",
    "\n",
    "\n",
    "The `apsg.math.matrix` module contains several matrix classes, namely the *square matrix* `Matrix2`, `Matrix3` and `Matrix4` which are most usefull in the present context. They can be imported as follows: "
   ]
  },
  {
   "cell_type": "code",
   "execution_count": 2,
   "metadata": {},
   "outputs": [],
   "source": [
    "from apsg.math import Matrix2, Matrix3, Matrix4"
   ]
  },
  {
   "cell_type": "markdown",
   "metadata": {
    "inputHidden": false,
    "outputHidden": false
   },
   "source": [
    "### Create instance of `Matrix2`\n",
    "\n",
    "One can create a new instance of matrix with calling it's initializer (constructor)."
   ]
  },
  {
   "cell_type": "code",
   "execution_count": 3,
   "metadata": {
    "inputHidden": false,
    "outputHidden": false
   },
   "outputs": [
    {
     "data": {
      "text/plain": [
       "Matrix2([(1.0, 2.0), (3.0, 4.0)])"
      ]
     },
     "execution_count": 3,
     "metadata": {},
     "output_type": "execute_result"
    }
   ],
   "source": [
    "A = Matrix2(1, 2, 3, 4)\n",
    "A"
   ]
  },
  {
   "cell_type": "markdown",
   "metadata": {
    "inputHidden": false,
    "outputHidden": false
   },
   "source": [
    "Now the `Matrix2` instance with the given values was created and assigned to name `A`. \n",
    "\n",
    "$$ \n",
    "A = \\begin{pmatrix}\n",
    "a_{11} & a_{12} \\\\\n",
    "a_{21} & a_{22} \\\\\n",
    "\\end{pmatrix}\n",
    "$$"
   ]
  },
  {
   "cell_type": "code",
   "execution_count": 4,
   "metadata": {},
   "outputs": [
    {
     "data": {
      "text/plain": [
       "(2, 2)"
      ]
     },
     "execution_count": 4,
     "metadata": {},
     "output_type": "execute_result"
    }
   ],
   "source": [
    "A.__shape__\n"
   ]
  },
  {
   "cell_type": "code",
   "execution_count": 5,
   "metadata": {},
   "outputs": [
    {
     "name": "stdout",
     "output_type": "stream",
     "text": [
      "BEFORE\n",
      "BEFORE\n",
      "BEFORE\n",
      "BEFORE\n",
      "BEFORE\n",
      "BEFORE\n",
      "BEFORE\n",
      "BEFORE\n",
      "BEFORE\n",
      "BEFORE\n",
      "BEFORE\n",
      "BEFORE\n",
      "BEFORE\n",
      "BEFORE\n",
      "BEFORE\n",
      "BEFORE\n",
      "BEFORE\n",
      "BEFORE\n",
      "BEFORE\n",
      "BEFORE\n",
      "BEFORE\n",
      "BEFORE\n",
      "BEFORE\n",
      "BEFORE\n",
      "BEFORE\n",
      "BEFORE\n",
      "BEFORE\n",
      "BEFORE\n",
      "BEFORE\n",
      "BEFORE\n",
      "BEFORE\n",
      "BEFORE\n",
      "BEFORE\n",
      "BEFORE\n",
      "BEFORE\n",
      "BEFORE\n",
      "BEFORE\n",
      "BEFORE\n",
      "BEFORE\n",
      "BEFORE\n",
      "BEFORE\n",
      "BEFORE\n",
      "BEFORE\n",
      "BEFORE\n",
      "BEFORE\n",
      "BEFORE\n",
      "BEFORE\n",
      "BEFORE\n",
      "BEFORE\n",
      "BEFORE\n",
      "BEFORE\n",
      "BEFORE\n",
      "BEFORE\n",
      "BEFORE\n",
      "BEFORE\n",
      "BEFORE\n",
      "BEFORE\n",
      "BEFORE\n",
      "BEFORE\n",
      "BEFORE\n",
      "BEFORE\n",
      "BEFORE\n",
      "BEFORE\n",
      "BEFORE\n",
      "BEFORE\n",
      "BEFORE\n",
      "BEFORE\n",
      "BEFORE\n",
      "BEFORE\n",
      "BEFORE\n",
      "BEFORE\n",
      "BEFORE\n",
      "BEFORE\n",
      "BEFORE\n",
      "BEFORE\n",
      "BEFORE\n",
      "BEFORE\n",
      "BEFORE\n",
      "BEFORE\n",
      "BEFORE\n",
      "BEFORE\n",
      "BEFORE\n",
      "BEFORE\n",
      "BEFORE\n",
      "BEFORE\n",
      "BEFORE\n",
      "BEFORE\n",
      "BEFORE\n",
      "BEFORE\n",
      "BEFORE\n",
      "BEFORE\n",
      "BEFORE\n",
      "BEFORE\n",
      "BEFORE\n",
      "BEFORE\n",
      "BEFORE\n",
      "BEFORE\n",
      "BEFORE\n",
      "BEFORE\n",
      "BEFORE\n",
      "BEFORE\n",
      "BEFORE\n",
      "BEFORE\n",
      "BEFORE\n",
      "BEFORE\n",
      "BEFORE\n",
      "BEFORE\n",
      "BEFORE\n",
      "BEFORE\n",
      "BEFORE\n",
      "BEFORE\n",
      "BEFORE\n",
      "BEFORE\n",
      "BEFORE\n",
      "BEFORE\n",
      "BEFORE\n",
      "BEFORE\n",
      "BEFORE\n",
      "BEFORE\n",
      "BEFORE\n",
      "BEFORE\n",
      "BEFORE\n",
      "BEFORE\n",
      "BEFORE\n",
      "BEFORE\n",
      "BEFORE\n",
      "BEFORE\n",
      "BEFORE\n",
      "BEFORE\n",
      "BEFORE\n",
      "BEFORE\n",
      "BEFORE\n",
      "BEFORE\n",
      "BEFORE\n",
      "BEFORE\n",
      "BEFORE\n",
      "BEFORE\n",
      "BEFORE\n",
      "BEFORE\n",
      "BEFORE\n",
      "BEFORE\n",
      "BEFORE\n",
      "BEFORE\n",
      "BEFORE\n",
      "BEFORE\n",
      "BEFORE\n",
      "BEFORE\n",
      "BEFORE\n",
      "BEFORE\n",
      "BEFORE\n",
      "BEFORE\n",
      "BEFORE\n",
      "BEFORE\n",
      "BEFORE\n",
      "BEFORE\n",
      "BEFORE\n",
      "BEFORE\n",
      "BEFORE\n",
      "BEFORE\n",
      "BEFORE\n",
      "BEFORE\n",
      "BEFORE\n",
      "BEFORE\n",
      "BEFORE\n",
      "BEFORE\n",
      "BEFORE\n",
      "BEFORE\n",
      "BEFORE\n",
      "BEFORE\n",
      "BEFORE\n",
      "BEFORE\n",
      "BEFORE\n",
      "BEFORE\n",
      "BEFORE\n",
      "BEFORE\n",
      "BEFORE\n",
      "BEFORE\n",
      "BEFORE\n",
      "BEFORE\n",
      "BEFORE\n",
      "BEFORE\n",
      "BEFORE\n",
      "BEFORE\n",
      "BEFORE\n",
      "BEFORE\n",
      "BEFORE\n",
      "BEFORE\n",
      "BEFORE\n",
      "BEFORE\n",
      "BEFORE\n",
      "BEFORE\n",
      "BEFORE\n",
      "BEFORE\n",
      "BEFORE\n",
      "BEFORE\n",
      "BEFORE\n",
      "BEFORE\n",
      "BEFORE\n",
      "BEFORE\n",
      "BEFORE\n",
      "BEFORE\n",
      "BEFORE\n",
      "BEFORE\n",
      "BEFORE\n",
      "BEFORE\n",
      "BEFORE\n",
      "BEFORE\n",
      "BEFORE\n",
      "BEFORE\n",
      "BEFORE\n",
      "BEFORE\n",
      "BEFORE\n",
      "BEFORE\n",
      "BEFORE\n",
      "BEFORE\n",
      "BEFORE\n",
      "BEFORE\n",
      "BEFORE\n",
      "BEFORE\n",
      "BEFORE\n",
      "BEFORE\n",
      "BEFORE\n",
      "BEFORE\n",
      "BEFORE\n",
      "BEFORE\n",
      "BEFORE\n",
      "BEFORE\n",
      "BEFORE\n",
      "BEFORE\n",
      "BEFORE\n",
      "BEFORE\n",
      "BEFORE\n",
      "BEFORE\n",
      "BEFORE\n",
      "BEFORE\n",
      "BEFORE\n",
      "BEFORE\n",
      "BEFORE\n",
      "BEFORE\n",
      "BEFORE\n",
      "BEFORE\n",
      "BEFORE\n",
      "BEFORE\n",
      "BEFORE\n",
      "BEFORE\n",
      "BEFORE\n",
      "BEFORE\n",
      "BEFORE\n",
      "BEFORE\n",
      "BEFORE\n",
      "BEFORE\n",
      "BEFORE\n",
      "BEFORE\n",
      "BEFORE\n",
      "BEFORE\n",
      "BEFORE\n",
      "BEFORE\n",
      "BEFORE\n",
      "BEFORE\n",
      "BEFORE\n",
      "BEFORE\n",
      "BEFORE\n",
      "BEFORE\n",
      "BEFORE\n",
      "BEFORE\n",
      "BEFORE\n",
      "BEFORE\n",
      "BEFORE\n",
      "BEFORE\n",
      "BEFORE\n",
      "BEFORE\n",
      "BEFORE\n",
      "BEFORE\n",
      "BEFORE\n",
      "BEFORE\n",
      "BEFORE\n",
      "BEFORE\n",
      "BEFORE\n",
      "BEFORE\n",
      "BEFORE\n",
      "BEFORE\n",
      "BEFORE\n",
      "BEFORE\n",
      "BEFORE\n",
      "BEFORE\n",
      "BEFORE\n",
      "BEFORE\n",
      "BEFORE\n",
      "BEFORE\n",
      "BEFORE\n",
      "BEFORE\n",
      "BEFORE\n",
      "BEFORE\n",
      "BEFORE\n",
      "BEFORE\n",
      "BEFORE\n",
      "BEFORE\n",
      "BEFORE\n",
      "BEFORE\n",
      "BEFORE\n",
      "BEFORE\n",
      "BEFORE\n",
      "BEFORE\n",
      "BEFORE\n",
      "BEFORE\n",
      "BEFORE\n",
      "BEFORE\n",
      "BEFORE\n",
      "BEFORE\n",
      "BEFORE\n",
      "BEFORE\n",
      "BEFORE\n",
      "BEFORE\n",
      "BEFORE\n",
      "BEFORE\n",
      "BEFORE\n",
      "BEFORE\n",
      "BEFORE\n",
      "BEFORE\n",
      "BEFORE\n",
      "BEFORE\n",
      "BEFORE\n",
      "BEFORE\n",
      "BEFORE\n",
      "BEFORE\n",
      "BEFORE\n",
      "BEFORE\n",
      "BEFORE\n",
      "BEFORE\n",
      "BEFORE\n",
      "BEFORE\n",
      "BEFORE\n",
      "BEFORE\n",
      "BEFORE\n",
      "BEFORE\n",
      "BEFORE\n",
      "BEFORE\n",
      "BEFORE\n",
      "BEFORE\n",
      "BEFORE\n",
      "BEFORE\n",
      "BEFORE\n",
      "BEFORE\n",
      "BEFORE\n",
      "BEFORE\n",
      "BEFORE\n",
      "BEFORE\n",
      "BEFORE\n",
      "BEFORE\n",
      "BEFORE\n",
      "BEFORE\n",
      "BEFORE\n",
      "BEFORE\n",
      "BEFORE\n",
      "BEFORE\n",
      "BEFORE\n",
      "BEFORE\n",
      "BEFORE\n",
      "BEFORE\n",
      "BEFORE\n",
      "BEFORE\n",
      "BEFORE\n",
      "BEFORE\n",
      "BEFORE\n",
      "BEFORE\n",
      "BEFORE\n",
      "BEFORE\n",
      "BEFORE\n",
      "BEFORE\n",
      "BEFORE\n",
      "BEFORE\n",
      "BEFORE\n",
      "BEFORE\n",
      "BEFORE\n",
      "BEFORE\n",
      "BEFORE\n",
      "BEFORE\n",
      "BEFORE\n",
      "BEFORE\n",
      "BEFORE\n",
      "BEFORE\n",
      "BEFORE\n",
      "BEFORE\n",
      "BEFORE\n",
      "BEFORE\n",
      "BEFORE\n",
      "BEFORE\n",
      "BEFORE\n",
      "BEFORE\n",
      "BEFORE\n",
      "BEFORE\n",
      "BEFORE\n",
      "BEFORE\n",
      "BEFORE\n",
      "BEFORE\n",
      "BEFORE\n",
      "BEFORE\n",
      "BEFORE\n",
      "BEFORE\n",
      "BEFORE\n",
      "BEFORE\n",
      "BEFORE\n",
      "BEFORE\n",
      "BEFORE\n",
      "BEFORE\n",
      "BEFORE\n",
      "BEFORE\n",
      "BEFORE\n",
      "BEFORE\n",
      "BEFORE\n",
      "BEFORE\n",
      "BEFORE\n",
      "BEFORE\n",
      "BEFORE\n",
      "BEFORE\n",
      "BEFORE\n",
      "BEFORE\n",
      "BEFORE\n",
      "BEFORE\n",
      "BEFORE\n",
      "BEFORE\n",
      "BEFORE\n",
      "BEFORE\n",
      "BEFORE\n",
      "BEFORE\n",
      "BEFORE\n",
      "BEFORE\n",
      "BEFORE\n",
      "BEFORE\n",
      "BEFORE\n",
      "BEFORE\n",
      "BEFORE\n",
      "BEFORE\n",
      "BEFORE\n",
      "BEFORE\n",
      "BEFORE\n",
      "BEFORE\n",
      "BEFORE\n",
      "BEFORE\n",
      "BEFORE\n",
      "BEFORE\n",
      "BEFORE\n",
      "BEFORE\n",
      "BEFORE\n",
      "BEFORE\n",
      "BEFORE\n",
      "BEFORE\n",
      "BEFORE\n",
      "BEFORE\n",
      "BEFORE\n",
      "BEFORE\n",
      "BEFORE\n",
      "BEFORE\n",
      "BEFORE\n",
      "BEFORE\n",
      "BEFORE\n",
      "BEFORE\n",
      "BEFORE\n",
      "BEFORE\n",
      "BEFORE\n",
      "BEFORE\n",
      "BEFORE\n",
      "BEFORE\n",
      "BEFORE\n",
      "BEFORE\n",
      "BEFORE\n",
      "BEFORE\n",
      "BEFORE\n",
      "BEFORE\n",
      "BEFORE\n",
      "BEFORE\n",
      "BEFORE\n",
      "BEFORE\n",
      "BEFORE\n",
      "BEFORE\n",
      "BEFORE\n",
      "BEFORE\n",
      "BEFORE\n",
      "BEFORE\n",
      "BEFORE\n",
      "BEFORE\n",
      "BEFORE\n",
      "BEFORE\n",
      "BEFORE\n",
      "BEFORE\n",
      "BEFORE\n",
      "BEFORE\n",
      "BEFORE\n",
      "BEFORE\n",
      "BEFORE\n",
      "BEFORE\n",
      "BEFORE\n",
      "BEFORE\n",
      "BEFORE\n",
      "BEFORE\n",
      "BEFORE\n",
      "BEFORE\n",
      "BEFORE\n",
      "BEFORE\n",
      "BEFORE\n",
      "BEFORE\n",
      "BEFORE\n",
      "BEFORE\n",
      "BEFORE\n",
      "BEFORE\n",
      "BEFORE\n",
      "BEFORE\n",
      "BEFORE\n",
      "BEFORE\n",
      "BEFORE\n",
      "BEFORE\n",
      "BEFORE\n",
      "BEFORE\n",
      "BEFORE\n",
      "BEFORE\n",
      "BEFORE\n",
      "BEFORE\n",
      "BEFORE\n",
      "BEFORE\n",
      "BEFORE\n",
      "BEFORE\n",
      "BEFORE\n",
      "BEFORE\n",
      "BEFORE\n",
      "BEFORE\n",
      "BEFORE\n",
      "BEFORE\n",
      "BEFORE\n",
      "BEFORE\n",
      "BEFORE\n",
      "BEFORE\n",
      "BEFORE\n",
      "BEFORE\n",
      "BEFORE\n",
      "BEFORE\n",
      "BEFORE\n",
      "BEFORE\n",
      "BEFORE\n",
      "BEFORE\n",
      "BEFORE\n",
      "BEFORE\n",
      "BEFORE\n",
      "BEFORE\n",
      "BEFORE\n",
      "BEFORE\n",
      "BEFORE\n",
      "BEFORE\n",
      "BEFORE\n",
      "BEFORE\n",
      "BEFORE\n",
      "BEFORE\n",
      "BEFORE\n",
      "BEFORE\n",
      "BEFORE\n",
      "BEFORE\n",
      "BEFORE\n",
      "BEFORE\n",
      "BEFORE\n",
      "BEFORE\n",
      "BEFORE\n",
      "BEFORE\n",
      "BEFORE\n",
      "BEFORE\n",
      "BEFORE\n",
      "BEFORE\n",
      "BEFORE\n",
      "BEFORE\n",
      "BEFORE\n",
      "BEFORE\n",
      "BEFORE\n",
      "BEFORE\n",
      "BEFORE\n",
      "BEFORE\n",
      "BEFORE\n",
      "BEFORE\n",
      "BEFORE\n",
      "BEFORE\n",
      "BEFORE\n",
      "BEFORE\n",
      "BEFORE\n",
      "BEFORE\n",
      "BEFORE\n",
      "BEFORE\n",
      "BEFORE\n",
      "BEFORE\n",
      "BEFORE\n",
      "BEFORE\n",
      "BEFORE\n",
      "BEFORE\n",
      "BEFORE\n",
      "BEFORE"
     ]
    },
    {
     "ename": "RecursionError",
     "evalue": "maximum recursion depth exceeded in comparison",
     "output_type": "error",
     "traceback": [
      "\u001b[1;31m---------------------------------------------------------------------------\u001b[0m",
      "\u001b[1;31mRecursionError\u001b[0m                            Traceback (most recent call last)",
      "\u001b[1;32m<ipython-input-5-336b7fe8d709>\u001b[0m in \u001b[0;36m<module>\u001b[1;34m\u001b[0m\n\u001b[1;32m----> 1\u001b[1;33m \u001b[0mA\u001b[0m\u001b[1;33m.\u001b[0m\u001b[0mtranspose\u001b[0m\u001b[1;33m(\u001b[0m\u001b[1;33m)\u001b[0m\u001b[1;33m\u001b[0m\u001b[0m\n\u001b[0m",
      "\u001b[1;32mc:\\users\\dlanda\\projects\\private\\apsg\\apsg\\math\\matrix.py\u001b[0m in \u001b[0;36mtranspose\u001b[1;34m(self)\u001b[0m\n\u001b[0;32m    694\u001b[0m \u001b[1;33m\u001b[0m\u001b[0m\n\u001b[0;32m    695\u001b[0m         \u001b[1;31m# Swap the shape rows and columns.\u001b[0m\u001b[1;33m\u001b[0m\u001b[1;33m\u001b[0m\u001b[0m\n\u001b[1;32m--> 696\u001b[1;33m         \u001b[0minstance\u001b[0m\u001b[1;33m.\u001b[0m\u001b[0m__shape__\u001b[0m \u001b[1;33m=\u001b[0m \u001b[1;33m(\u001b[0m\u001b[0mself\u001b[0m\u001b[1;33m.\u001b[0m\u001b[0mcolumn_count\u001b[0m\u001b[1;33m,\u001b[0m \u001b[0mself\u001b[0m\u001b[1;33m.\u001b[0m\u001b[0mrow_count\u001b[0m\u001b[1;33m)\u001b[0m\u001b[1;33m\u001b[0m\u001b[0m\n\u001b[0m\u001b[0;32m    697\u001b[0m \u001b[1;33m\u001b[0m\u001b[0m\n\u001b[0;32m    698\u001b[0m         \u001b[1;32mreturn\u001b[0m \u001b[0minstance\u001b[0m\u001b[1;33m\u001b[0m\u001b[0m\n",
      "\u001b[1;32mc:\\users\\dlanda\\projects\\private\\apsg\\apsg\\math\\matrix.py\u001b[0m in \u001b[0;36mcolumn_count\u001b[1;34m(self)\u001b[0m\n\u001b[0;32m    645\u001b[0m         \u001b[0mGet\u001b[0m \u001b[0mthe\u001b[0m \u001b[0mnumber\u001b[0m \u001b[0mof\u001b[0m \u001b[0mcolumns\u001b[0m\u001b[1;33m.\u001b[0m\u001b[1;33m\u001b[0m\u001b[0m\n\u001b[0;32m    646\u001b[0m         \"\"\"\n\u001b[1;32m--> 647\u001b[1;33m         \u001b[1;32mreturn\u001b[0m \u001b[0mlen\u001b[0m\u001b[1;33m(\u001b[0m\u001b[0mself\u001b[0m\u001b[1;33m.\u001b[0m\u001b[0mcolumns\u001b[0m\u001b[1;33m)\u001b[0m\u001b[1;33m\u001b[0m\u001b[0m\n\u001b[0m\u001b[0;32m    648\u001b[0m \u001b[1;33m\u001b[0m\u001b[0m\n\u001b[0;32m    649\u001b[0m     \u001b[1;33m@\u001b[0m\u001b[0mproperty\u001b[0m\u001b[1;33m\u001b[0m\u001b[0m\n",
      "\u001b[1;32mc:\\users\\dlanda\\projects\\private\\apsg\\apsg\\math\\matrix.py\u001b[0m in \u001b[0;36mcolumns\u001b[1;34m(self)\u001b[0m\n\u001b[0;32m    629\u001b[0m         \u001b[0mReturns\u001b[0m\u001b[1;33m:\u001b[0m \u001b[0mThe\u001b[0m \u001b[0mmatrix\u001b[0m \u001b[0mcolumns\u001b[0m\u001b[1;33m.\u001b[0m\u001b[1;33m\u001b[0m\u001b[0m\n\u001b[0;32m    630\u001b[0m         \"\"\"\n\u001b[1;32m--> 631\u001b[1;33m         \u001b[1;32mreturn\u001b[0m \u001b[0mself\u001b[0m\u001b[1;33m.\u001b[0m\u001b[0mtranspose\u001b[0m\u001b[1;33m(\u001b[0m\u001b[1;33m)\u001b[0m\u001b[1;33m.\u001b[0m\u001b[0mrows\u001b[0m\u001b[1;33m\u001b[0m\u001b[0m\n\u001b[0m\u001b[0;32m    632\u001b[0m \u001b[1;33m\u001b[0m\u001b[0m\n\u001b[0;32m    633\u001b[0m     \u001b[1;33m@\u001b[0m\u001b[0mproperty\u001b[0m\u001b[1;33m\u001b[0m\u001b[0m\n",
      "... last 3 frames repeated, from the frame below ...\n",
      "\u001b[1;32mc:\\users\\dlanda\\projects\\private\\apsg\\apsg\\math\\matrix.py\u001b[0m in \u001b[0;36mtranspose\u001b[1;34m(self)\u001b[0m\n\u001b[0;32m    694\u001b[0m \u001b[1;33m\u001b[0m\u001b[0m\n\u001b[0;32m    695\u001b[0m         \u001b[1;31m# Swap the shape rows and columns.\u001b[0m\u001b[1;33m\u001b[0m\u001b[1;33m\u001b[0m\u001b[0m\n\u001b[1;32m--> 696\u001b[1;33m         \u001b[0minstance\u001b[0m\u001b[1;33m.\u001b[0m\u001b[0m__shape__\u001b[0m \u001b[1;33m=\u001b[0m \u001b[1;33m(\u001b[0m\u001b[0mself\u001b[0m\u001b[1;33m.\u001b[0m\u001b[0mcolumn_count\u001b[0m\u001b[1;33m,\u001b[0m \u001b[0mself\u001b[0m\u001b[1;33m.\u001b[0m\u001b[0mrow_count\u001b[0m\u001b[1;33m)\u001b[0m\u001b[1;33m\u001b[0m\u001b[0m\n\u001b[0m\u001b[0;32m    697\u001b[0m \u001b[1;33m\u001b[0m\u001b[0m\n\u001b[0;32m    698\u001b[0m         \u001b[1;32mreturn\u001b[0m \u001b[0minstance\u001b[0m\u001b[1;33m\u001b[0m\u001b[0m\n",
      "\u001b[1;31mRecursionError\u001b[0m: maximum recursion depth exceeded in comparison"
     ]
    }
   ],
   "source": [
    "A.transpose()"
   ]
  },
  {
   "cell_type": "markdown",
   "metadata": {
    "inputHidden": false,
    "outputHidden": false
   },
   "source": [
    "### Useful properties and methods"
   ]
  },
  {
   "cell_type": "markdown",
   "metadata": {
    "inputHidden": false,
    "outputHidden": false
   },
   "source": [
    "Get the matrix rows."
   ]
  },
  {
   "cell_type": "code",
   "execution_count": null,
   "metadata": {
    "inputHidden": false,
    "outputHidden": false
   },
   "outputs": [],
   "source": [
    "A.rows"
   ]
  },
  {
   "cell_type": "markdown",
   "metadata": {
    "inputHidden": false,
    "outputHidden": false
   },
   "source": [
    "Get the matrix columns."
   ]
  },
  {
   "cell_type": "code",
   "execution_count": null,
   "metadata": {
    "inputHidden": false,
    "outputHidden": false
   },
   "outputs": [],
   "source": [
    "A.columns"
   ]
  },
  {
   "cell_type": "markdown",
   "metadata": {
    "inputHidden": false,
    "outputHidden": false
   },
   "source": [
    "Each square matrix defines several factory methods."
   ]
  },
  {
   "cell_type": "code",
   "execution_count": null,
   "metadata": {},
   "outputs": [],
   "source": [
    "I = \"FIXME\" #Matrix2.identity()\n",
    "I"
   ]
  },
  {
   "cell_type": "code",
   "execution_count": null,
   "metadata": {},
   "outputs": [],
   "source": [
    "D = \"FIXME\" # Matrix2.diagonal()\n",
    "D"
   ]
  },
  {
   "cell_type": "code",
   "execution_count": null,
   "metadata": {
    "inputHidden": false,
    "outputHidden": false
   },
   "outputs": [],
   "source": [
    "U = Matrix2.upper_triangular()"
   ]
  },
  {
   "cell_type": "code",
   "execution_count": null,
   "metadata": {
    "inputHidden": false,
    "outputHidden": false
   },
   "outputs": [],
   "source": [
    "L = Matrix2.lower_triangular()"
   ]
  },
  {
   "cell_type": "code",
   "execution_count": null,
   "metadata": {
    "inputHidden": false,
    "outputHidden": false
   },
   "outputs": [],
   "source": [
    "S = Matrix2.symmetric()"
   ]
  },
  {
   "cell_type": "markdown",
   "metadata": {
    "inputHidden": false,
    "outputHidden": false
   },
   "source": [
    "### Matrix addition"
   ]
  },
  {
   "cell_type": "markdown",
   "metadata": {
    "inputHidden": false,
    "outputHidden": false
   },
   "source": [
    "We are also going to create another matrix of the same dimension but with another values whoch we will use for demonstration of matrix aritmetics."
   ]
  },
  {
   "cell_type": "code",
   "execution_count": null,
   "metadata": {
    "inputHidden": false,
    "outputHidden": false
   },
   "outputs": [],
   "source": [
    "B = Matrix2(0, 1, 1, 0)"
   ]
  },
  {
   "cell_type": "code",
   "execution_count": null,
   "metadata": {
    "inputHidden": false,
    "outputHidden": false
   },
   "outputs": [],
   "source": [
    "A + B"
   ]
  },
  {
   "cell_type": "markdown",
   "metadata": {
    "inputHidden": false,
    "outputHidden": false
   },
   "source": [
    "### Matrix subtraction"
   ]
  },
  {
   "cell_type": "code",
   "execution_count": null,
   "metadata": {},
   "outputs": [],
   "source": [
    "A - B"
   ]
  },
  {
   "cell_type": "markdown",
   "metadata": {},
   "source": [
    "### Matrix multiplication"
   ]
  },
  {
   "cell_type": "code",
   "execution_count": null,
   "metadata": {},
   "outputs": [],
   "source": [
    "A @ B"
   ]
  },
  {
   "cell_type": "code",
   "execution_count": null,
   "metadata": {},
   "outputs": [],
   "source": [
    "A / 1"
   ]
  },
  {
   "cell_type": "code",
   "execution_count": null,
   "metadata": {},
   "outputs": [],
   "source": [
    " 1 * A"
   ]
  },
  {
   "cell_type": "markdown",
   "metadata": {},
   "source": [
    "### Operator chaining"
   ]
  },
  {
   "cell_type": "code",
   "execution_count": null,
   "metadata": {},
   "outputs": [],
   "source": [
    "A - (A @ B) + (B + A)"
   ]
  },
  {
   "cell_type": "markdown",
   "metadata": {
    "inputHidden": false,
    "outputHidden": false
   },
   "source": [
    "### Errors"
   ]
  },
  {
   "cell_type": "code",
   "execution_count": null,
   "metadata": {
    "inputHidden": false,
    "outputHidden": false
   },
   "outputs": [],
   "source": [
    "from apsg.math import MatrixError\n",
    "C = Matrix3(1,1,1, 2,2,2, 3,3,3)\n",
    "try:\n",
    "    C @ A\n",
    "except MatrixError as e:\n",
    "    print(e)\n",
    "    "
   ]
  },
  {
   "cell_type": "markdown",
   "metadata": {
    "inputHidden": false,
    "outputHidden": false
   },
   "source": [
    "## Vector\n"
   ]
  },
  {
   "cell_type": "code",
   "execution_count": null,
   "metadata": {
    "inputHidden": false,
    "outputHidden": false
   },
   "outputs": [],
   "source": [
    "from apsg.math import Vector2\n",
    "\n",
    "v1 = Vector2(1, 2, order=\"column\")\n",
    "v2 = Vector2(2, 1, order=\"column\")\n",
    "v1 + v2"
   ]
  },
  {
   "cell_type": "code",
   "execution_count": null,
   "metadata": {},
   "outputs": [],
   "source": []
  },
  {
   "cell_type": "markdown",
   "metadata": {
    "inputHidden": false,
    "outputHidden": false
   },
   "source": [
    "### Arithmetic Operators"
   ]
  },
  {
   "cell_type": "code",
   "execution_count": null,
   "metadata": {
    "inputHidden": false,
    "outputHidden": false
   },
   "outputs": [],
   "source": [
    "v1 + v2"
   ]
  },
  {
   "cell_type": "code",
   "execution_count": null,
   "metadata": {
    "inputHidden": false,
    "outputHidden": false
   },
   "outputs": [],
   "source": [
    "v1 - v2"
   ]
  },
  {
   "cell_type": "code",
   "execution_count": null,
   "metadata": {
    "inputHidden": false,
    "outputHidden": false
   },
   "outputs": [],
   "source": [
    "2 * v1"
   ]
  },
  {
   "cell_type": "code",
   "execution_count": null,
   "metadata": {
    "inputHidden": false,
    "outputHidden": false
   },
   "outputs": [],
   "source": [
    "v1 * 2"
   ]
  },
  {
   "cell_type": "code",
   "execution_count": null,
   "metadata": {
    "inputHidden": false,
    "outputHidden": false
   },
   "outputs": [],
   "source": [
    "# v1 * v2 FIXME\n",
    "v1.order\n",
    "v2.order\n",
    "\n",
    "v3.__shape__\n",
    "v3.transpose()"
   ]
  },
  {
   "cell_type": "markdown",
   "metadata": {
    "inputHidden": false,
    "outputHidden": false
   },
   "source": [
    "## Benchmarks"
   ]
  },
  {
   "cell_type": "code",
   "execution_count": null,
   "metadata": {},
   "outputs": [],
   "source": []
  },
  {
   "cell_type": "code",
   "execution_count": null,
   "metadata": {
    "inputHidden": false,
    "outputHidden": false
   },
   "outputs": [],
   "source": [
    "from apsg import Vec3\n",
    "\n",
    "v1 = Vec3([1, 2, 3])\n",
    "v2 = Vec3([3, 2, 1])\n",
    "\n",
    "# %timeit -r 1000 -n 1000 v1.cross(v2)"
   ]
  },
  {
   "cell_type": "code",
   "execution_count": null,
   "metadata": {
    "inputHidden": false,
    "outputHidden": false
   },
   "outputs": [],
   "source": [
    "from apsg.math import Vector3\n",
    "\n",
    "v1 = Vector3(1, 2, 3)\n",
    "v2 = Vector3(3, 2, 1)\n",
    "\n",
    "# %timeit -r 1000 -n 1000 v1.cross(v2)"
   ]
  }
 ],
 "metadata": {
  "kernel_info": {
   "name": "py_apsg"
  },
  "kernelspec": {
   "display_name": "apsg",
   "language": "python",
   "name": "apsg"
  },
  "language_info": {
   "codemirror_mode": {
    "name": "ipython",
    "version": 3
   },
   "file_extension": ".py",
   "mimetype": "text/x-python",
   "name": "python",
   "nbconvert_exporter": "python",
   "pygments_lexer": "ipython3",
   "version": "3.6.6"
  },
  "nteract": {
   "version": "0.12.3"
  }
 },
 "nbformat": 4,
 "nbformat_minor": 2
}
