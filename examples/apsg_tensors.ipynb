{
 "cells": [
  {
   "cell_type": "code",
   "execution_count": 1,
   "metadata": {},
   "outputs": [],
   "source": [
    "%matplotlib inline"
   ]
  },
  {
   "cell_type": "markdown",
   "metadata": {},
   "source": [
    "# APSG tutorial - structural geology module for Python - Part 2"
   ]
  },
  {
   "cell_type": "code",
   "execution_count": 2,
   "metadata": {},
   "outputs": [],
   "source": [
    "from apsg import *\n",
    "apsg_conf['figsize'] = (9, 7)"
   ]
  },
  {
   "cell_type": "markdown",
   "metadata": {},
   "source": [
    "## Matrix like classes and tensors\n",
    "**APSG** provides matrix-like classes to work with tensor quantities used commonly in structural geology analysis. It includes `DefGrad3` and `VelGrad3` for deformation and velocity gradient, `Stress3` for stress tensor, `Ellipsoid` for quadratic forms and `Ortensor3` for orientation tensor. All these classes support common matrix mathematical operations and provide basic methods and properties.\n",
    "\n",
    "All matrix-like objects could be created either by passing nested list or tuple or providing individual components to class method `from_comp`"
   ]
  },
  {
   "cell_type": "code",
   "execution_count": 3,
   "metadata": {},
   "outputs": [
    {
     "data": {
      "text/plain": [
       "DeformationGradient3\n",
       "[[2.  0.  1. ]\n",
       " [0.  1.  0. ]\n",
       " [0.  0.  0.5]]"
      ]
     },
     "execution_count": 3,
     "metadata": {},
     "output_type": "execute_result"
    }
   ],
   "source": [
    "F = defgrad([[2, 0, 1], [0, 1, 0], [0, 0, 0.5]])\n",
    "F"
   ]
  },
  {
   "cell_type": "code",
   "execution_count": 4,
   "metadata": {},
   "outputs": [
    {
     "data": {
      "text/plain": [
       "DeformationGradient3\n",
       "[[2.  0.  1. ]\n",
       " [0.  1.  0. ]\n",
       " [0.  0.  0.5]]"
      ]
     },
     "execution_count": 4,
     "metadata": {},
     "output_type": "execute_result"
    }
   ],
   "source": [
    "F = defgrad.from_comp(xx=2, zz=0.5, xz=1)\n",
    "F"
   ]
  },
  {
   "cell_type": "markdown",
   "metadata": {},
   "source": [
    "For multiplifications of matrix or vectors we have to use matmul `@` operator"
   ]
  },
  {
   "cell_type": "code",
   "execution_count": 5,
   "metadata": {},
   "outputs": [
    {
     "data": {
      "text/plain": [
       "Vector3(1, 0, 0.5)"
      ]
     },
     "execution_count": 5,
     "metadata": {},
     "output_type": "execute_result"
    }
   ],
   "source": [
    "v = vec3('z') # unit-length vector in direction af axis z\n",
    "u = F @ v\n",
    "u"
   ]
  },
  {
   "cell_type": "markdown",
   "metadata": {},
   "source": [
    "`I` property returns inverse matrix"
   ]
  },
  {
   "cell_type": "code",
   "execution_count": 6,
   "metadata": {},
   "outputs": [
    {
     "data": {
      "text/plain": [
       "Vector3(0, 0, 1)"
      ]
     },
     "execution_count": 6,
     "metadata": {},
     "output_type": "execute_result"
    }
   ],
   "source": [
    "F.I @ u"
   ]
  },
  {
   "cell_type": "markdown",
   "metadata": {},
   "source": [
    "To transpose matrix, we can use `T` property and for multiplification we have to use `@` operator"
   ]
  },
  {
   "cell_type": "code",
   "execution_count": 7,
   "metadata": {},
   "outputs": [
    {
     "data": {
      "text/plain": [
       "DeformationGradient3\n",
       "[[4.   0.   2.  ]\n",
       " [0.   1.   0.  ]\n",
       " [2.   0.   1.25]]"
      ]
     },
     "execution_count": 7,
     "metadata": {},
     "output_type": "execute_result"
    }
   ],
   "source": [
    "F.T @ F"
   ]
  },
  {
   "cell_type": "code",
   "execution_count": 8,
   "metadata": {},
   "outputs": [
    {
     "data": {
      "text/plain": [
       "1.25"
      ]
     },
     "execution_count": 8,
     "metadata": {},
     "output_type": "execute_result"
    }
   ],
   "source": [
    "v @ F.T @ F @ v"
   ]
  },
  {
   "cell_type": "markdown",
   "metadata": {},
   "source": [
    "Eigenvalues and eigenvectors could be obtained by methods `eigenvalues` and `eigenvectors`. Individual eigenvalues and eigen vectors could be accessed by properties `E1`, `E2`, `E3` and `V1`, `V2`, `V3`"
   ]
  },
  {
   "cell_type": "markdown",
   "metadata": {},
   "source": [
    "#### Deformation gradient and rotations\n",
    "\n",
    "Deformation gradient `DeformationGradient3` could describe distorsion, dilation and rigid-body rotation. All **APSG** features provides `transform` method which transform then using provided deformation gradient.\n",
    "\n",
    "The rigid-body rotation could be either extracted from deformation gradient using `R` method:"
   ]
  },
  {
   "cell_type": "code",
   "execution_count": 9,
   "metadata": {},
   "outputs": [
    {
     "data": {
      "text/plain": [
       "DeformationGradient3\n",
       "[[ 0.928  0.     0.371]\n",
       " [ 0.     1.     0.   ]\n",
       " [-0.371  0.     0.928]]"
      ]
     },
     "execution_count": 9,
     "metadata": {},
     "output_type": "execute_result"
    }
   ],
   "source": [
    "R = F.R\n",
    "R"
   ]
  },
  {
   "cell_type": "markdown",
   "metadata": {},
   "source": [
    "or could be created of one of the class methods like `from_axisangle`, defining axis of rotation and angle"
   ]
  },
  {
   "cell_type": "code",
   "execution_count": 10,
   "metadata": {},
   "outputs": [
    {
     "data": {
      "text/plain": [
       "DeformationGradient3\n",
       "[[ 0.552 -0.753  0.359]\n",
       " [ 0.574  0.655  0.492]\n",
       " [-0.605 -0.065  0.793]]"
      ]
     },
     "execution_count": 10,
     "metadata": {},
     "output_type": "execute_result"
    }
   ],
   "source": [
    "R = defgrad.from_axisangle(lin(120, 50), 60)\n",
    "R"
   ]
  },
  {
   "cell_type": "markdown",
   "metadata": {},
   "source": [
    "`from_two_vectors`, where axis of rotation is perpendicular to both vectors and angle is angle of vectors"
   ]
  },
  {
   "cell_type": "code",
   "execution_count": 11,
   "metadata": {},
   "outputs": [
    {
     "data": {
      "text/plain": [
       "DeformationGradient3\n",
       "[[ 0.938  0.074  0.339]\n",
       " [ 0.186  0.718 -0.671]\n",
       " [-0.294  0.692  0.66 ]]"
      ]
     },
     "execution_count": 11,
     "metadata": {},
     "output_type": "execute_result"
    }
   ],
   "source": [
    "R = defgrad.from_two_vectors(lin(120, 50), lin(270, 80))\n",
    "R"
   ]
  },
  {
   "cell_type": "code",
   "execution_count": 12,
   "metadata": {},
   "outputs": [
    {
     "data": {
      "text/plain": [
       "L:270/80"
      ]
     },
     "execution_count": 12,
     "metadata": {},
     "output_type": "execute_result"
    }
   ],
   "source": [
    "lin(120, 50).transform(R)"
   ]
  },
  {
   "cell_type": "markdown",
   "metadata": {},
   "source": [
    "or using `from_two_pairs` method, to describe rotation between two coordinate systems. Note that pair define X axis as lineation vector and Z axis as foliation vector."
   ]
  },
  {
   "cell_type": "code",
   "execution_count": 13,
   "metadata": {},
   "outputs": [
    {
     "data": {
      "text/plain": [
       "DeformationGradient3\n",
       "[[-0.071  0.97   0.234]\n",
       " [-0.874 -0.174  0.453]\n",
       " [ 0.48  -0.173  0.86 ]]"
      ]
     },
     "execution_count": 13,
     "metadata": {},
     "output_type": "execute_result"
    }
   ],
   "source": [
    "p1 = pair(150, 60, 90, 40)\n",
    "p2 = pair(45, 30, 10, 25)\n",
    "R = defgrad.from_two_pairs(p1, p2)\n",
    "R"
   ]
  },
  {
   "cell_type": "code",
   "execution_count": 14,
   "metadata": {},
   "outputs": [
    {
     "data": {
      "text/plain": [
       "P:45/30-10/25"
      ]
     },
     "execution_count": 14,
     "metadata": {},
     "output_type": "execute_result"
    }
   ],
   "source": [
    "p1.transform(R)"
   ]
  },
  {
   "cell_type": "markdown",
   "metadata": {},
   "source": [
    "### Ellipsoids\n",
    "\n",
    "In deformation analysis, the quadratic forms are represented by `Ellipsoid` class. It could be used to represents either ellipsoid objects or finite strain ellipsoid.\n",
    "\n",
    "It provides additional methods and properties including `lambda1`, `lambda2` and `lambda3` for square-root of eigenvalues, Woodcock's `shape` and `strength`, `k`, `K`, `d` and `D` for Flinn's and Ramsay symmetries and intensities, `lode` for Lode's parameter etc. For more check documentation. Eigenvectors could be also represented by linear or planar features using properties `eigenlins` and `eigenfols`.\n",
    "\n",
    "We can create `Ellipsoid` object similarly to `Matrix3` (note that only components of upper triangular part are available in `from_comp` method due to matrix symmetry), or you can use aditional class methods `from_defgrad` and `from_stretch`."
   ]
  },
  {
   "cell_type": "code",
   "execution_count": 15,
   "metadata": {},
   "outputs": [
    {
     "data": {
      "text/plain": [
       "Ellipsoid\n",
       "[[5.   0.   0.5 ]\n",
       " [0.   1.   0.  ]\n",
       " [0.5  0.   0.25]]\n",
       "(λ1:2.25, λ2:1, λ3:0.445)"
      ]
     },
     "execution_count": 15,
     "metadata": {},
     "output_type": "execute_result"
    }
   ],
   "source": [
    "B = ellipsoid.from_defgrad(F)  # Finger deformation tensor\n",
    "B"
   ]
  },
  {
   "cell_type": "markdown",
   "metadata": {},
   "source": [
    "In above example, the Finger deformation tensor `B` represents finite strain ellipsoid reulting from deformation described by deformation gradient `F`. We can explore several parameters:"
   ]
  },
  {
   "cell_type": "code",
   "execution_count": 16,
   "metadata": {},
   "outputs": [
    {
     "name": "stdout",
     "output_type": "stream",
     "text": [
      "Principal stretches: Sx=2.247679020649623, Sy=1.0, Sz=0.4449033829176287\n",
      "Principal strain ratios: Rxy=2.247679020649623, Ryz=2.247679020649623\n",
      "Flinn's finite strain parameters: d=1.764484592491078, k=1.0\n",
      "Ramsay's finite strain parameters: d=1.3118699860194967, k=1.0\n",
      "Woodcock's parameters: strength=1.6197962748564998, shape=1.0\n",
      "Watterson's strain intesity: s3.495358041299246\n",
      "Nadai's natural octahedral unit shear: 1.3225581202197991\n",
      "Nadai's natural octahedral unit strain: 1.1453689300917396\n",
      "Lode's parameter: 0.0\n"
     ]
    }
   ],
   "source": [
    "print(f'Principal stretches: Sx={B.lambda1}, Sy={B.lambda2}, Sz={B.lambda3}')\n",
    "print(f'Principal strain ratios: Rxy={B.Rxy}, Ryz={B.Ryz}')\n",
    "print(f\"Flinn's finite strain parameters: d={B.d}, k={B.k}\")\n",
    "print(f\"Ramsay's finite strain parameters: d={B.D}, k={B.K}\")\n",
    "print(f\"Woodcock's parameters: strength={B.strength}, shape={B.shape}\")\n",
    "print(f\"Watterson's strain intesity: s{B.r}\")\n",
    "print(f\"Nadai's natural octahedral unit shear: {B.goct}\")\n",
    "print(f\"Nadai's natural octahedral unit strain: {B.eoct}\")\n",
    "print(f\"Lode's parameter: {B.lode}\")"
   ]
  },
  {
   "cell_type": "code",
   "execution_count": 17,
   "metadata": {},
   "outputs": [
    {
     "data": {
      "text/plain": [
       "Ellipsoid\n",
       "[[4.   0.   2.  ]\n",
       " [0.   1.   0.  ]\n",
       " [2.   0.   1.25]]\n",
       "(λ1:2.25, λ2:1, λ3:0.445)"
      ]
     },
     "execution_count": 17,
     "metadata": {},
     "output_type": "execute_result"
    }
   ],
   "source": [
    "C = ellipsoid.from_defgrad(F, 'right')  # Green's deformation tensor\n",
    "C"
   ]
  },
  {
   "cell_type": "code",
   "execution_count": 18,
   "metadata": {},
   "outputs": [
    {
     "data": {
      "text/plain": [
       "1.25"
      ]
     },
     "execution_count": 18,
     "metadata": {},
     "output_type": "execute_result"
    }
   ],
   "source": [
    "v @ C @ v"
   ]
  },
  {
   "cell_type": "markdown",
   "metadata": {},
   "source": [
    "### Ortensor class\n",
    "`Ortensor3` class represents orientation tensor of set of vectors, linear or planar features. In adition to `Ellipsoid` methods and properties, it provides properties to describe orientation distribution, e.g. Vollmer's `P`, `G`, `R` and `B` indexes, `Intensity` for Lisle intensity index and `MAD` for approximate angular deviation."
   ]
  },
  {
   "cell_type": "code",
   "execution_count": 19,
   "metadata": {},
   "outputs": [
    {
     "data": {
      "text/plain": [
       "OrientationTensor3\n",
       "[[ 0.158 -0.207 -0.186]\n",
       " [-0.207  0.46   0.383]\n",
       " [-0.186  0.383  0.382]]\n",
       "(λ1:0.953, λ2:0.235, λ3:0.19)"
      ]
     },
     "execution_count": 19,
     "metadata": {},
     "output_type": "execute_result"
    }
   ],
   "source": [
    "l = linset.random_fisher(position=lin(120,40))\n",
    "ot = l.ortensor()\n",
    "# or\n",
    "ot = ortensor.from_features(l)\n",
    "ot"
   ]
  },
  {
   "cell_type": "code",
   "execution_count": 20,
   "metadata": {},
   "outputs": [
    {
     "data": {
      "text/plain": [
       "(0.9086798155777692, 0.055075989269152054, 0.03624419515307836)"
      ]
     },
     "execution_count": 20,
     "metadata": {},
     "output_type": "execute_result"
    }
   ],
   "source": [
    "ot.eigenvalues()"
   ]
  },
  {
   "cell_type": "code",
   "execution_count": 21,
   "metadata": {},
   "outputs": [
    {
     "data": {
      "text/plain": [
       "(Vector3(-0.348, 0.696, 0.628),\n",
       " Vector3(-0.936, -0.214, -0.28),\n",
       " Vector3(-0.061, -0.685, 0.726))"
      ]
     },
     "execution_count": 21,
     "metadata": {},
     "output_type": "execute_result"
    }
   ],
   "source": [
    "ot.eigenvectors()"
   ]
  },
  {
   "cell_type": "code",
   "execution_count": 22,
   "metadata": {},
   "outputs": [
    {
     "data": {
      "text/plain": [
       "'LLS'"
      ]
     },
     "execution_count": 22,
     "metadata": {},
     "output_type": "execute_result"
    }
   ],
   "source": [
    "ot.kind"
   ]
  },
  {
   "cell_type": "markdown",
   "metadata": {},
   "source": [
    "The instances of `Stress3`, `Ellipsoid` and `Ortensor3` also provides `eigenlins` and `eigenfols` properties to represent principal axes and planes"
   ]
  },
  {
   "cell_type": "code",
   "execution_count": 23,
   "metadata": {},
   "outputs": [
    {
     "data": {
      "text/plain": [
       "(L:117/39, L:13/16, L:265/47)"
      ]
     },
     "execution_count": 23,
     "metadata": {},
     "output_type": "execute_result"
    }
   ],
   "source": [
    "ot.eigenlins"
   ]
  },
  {
   "cell_type": "code",
   "execution_count": 24,
   "metadata": {},
   "outputs": [
    {
     "data": {
      "text/plain": [
       "(S:297/51, S:193/74, S:85/43)"
      ]
     },
     "execution_count": 24,
     "metadata": {},
     "output_type": "execute_result"
    }
   ],
   "source": [
    "ot.eigenfols"
   ]
  },
  {
   "cell_type": "code",
   "execution_count": 25,
   "metadata": {},
   "outputs": [
    {
     "data": {
      "text/plain": [
       "(1.6108567796345399, 6.69944312795964)"
      ]
     },
     "execution_count": 25,
     "metadata": {},
     "output_type": "execute_result"
    }
   ],
   "source": [
    "ot.strength, ot.shape"
   ]
  },
  {
   "cell_type": "code",
   "execution_count": 26,
   "metadata": {},
   "outputs": [
    {
     "data": {
      "text/plain": [
       "(13.157218408138034, 3.070684605230345)"
      ]
     },
     "execution_count": 26,
     "metadata": {},
     "output_type": "execute_result"
    }
   ],
   "source": [
    "ot.k, ot.d"
   ]
  },
  {
   "cell_type": "code",
   "execution_count": 27,
   "metadata": {},
   "outputs": [
    {
     "data": {
      "text/plain": [
       "(6.69944312795964, 2.008365085670506)"
      ]
     },
     "execution_count": 27,
     "metadata": {},
     "output_type": "execute_result"
    }
   ],
   "source": [
    "ot.K, ot.D"
   ]
  },
  {
   "cell_type": "code",
   "execution_count": 28,
   "metadata": {},
   "outputs": [
    {
     "data": {
      "text/plain": [
       "(0.8536038263086172, 0.03766358823214738, 0.10873258545923509)"
      ]
     },
     "execution_count": 28,
     "metadata": {},
     "output_type": "execute_result"
    }
   ],
   "source": [
    "ot.P, ot.G, ot.R"
   ]
  },
  {
   "cell_type": "code",
   "execution_count": 29,
   "metadata": {},
   "outputs": [
    {
     "data": {
      "text/plain": [
       "17.589325255926394"
      ]
     },
     "execution_count": 29,
     "metadata": {},
     "output_type": "execute_result"
    }
   ],
   "source": [
    "ot.MAD"
   ]
  }
 ],
 "metadata": {
  "kernelspec": {
   "display_name": "Python 3 (ipykernel)",
   "language": "python",
   "name": "python3"
  },
  "language_info": {
   "codemirror_mode": {
    "name": "ipython",
    "version": 3
   },
   "file_extension": ".py",
   "mimetype": "text/x-python",
   "name": "python",
   "nbconvert_exporter": "python",
   "pygments_lexer": "ipython3",
   "version": "3.8.12"
  }
 },
 "nbformat": 4,
 "nbformat_minor": 4
}
